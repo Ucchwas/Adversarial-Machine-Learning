{
  "nbformat": 4,
  "nbformat_minor": 0,
  "metadata": {
    "colab": {
      "provenance": [],
      "machine_shape": "hm",
      "gpuType": "V28"
    },
    "kernelspec": {
      "name": "python3",
      "display_name": "Python 3"
    },
    "language_info": {
      "name": "python"
    },
    "accelerator": "TPU",
    "widgets": {
      "application/vnd.jupyter.widget-state+json": {
        "f5270c2b7f3f4103b9e52116c68f6c4a": {
          "model_module": "@jupyter-widgets/controls",
          "model_name": "HBoxModel",
          "model_module_version": "1.5.0",
          "state": {
            "_dom_classes": [],
            "_model_module": "@jupyter-widgets/controls",
            "_model_module_version": "1.5.0",
            "_model_name": "HBoxModel",
            "_view_count": null,
            "_view_module": "@jupyter-widgets/controls",
            "_view_module_version": "1.5.0",
            "_view_name": "HBoxView",
            "box_style": "",
            "children": [
              "IPY_MODEL_b68c20ced5cc422e92fd8b5bb238b61d",
              "IPY_MODEL_0f0403b421a74e83aa7ea20ed283b8a3",
              "IPY_MODEL_7604c4808e694dfd8113ed5e3659efae"
            ],
            "layout": "IPY_MODEL_399187cf269444fb8ad4be2884e21a05"
          }
        },
        "b68c20ced5cc422e92fd8b5bb238b61d": {
          "model_module": "@jupyter-widgets/controls",
          "model_name": "HTMLModel",
          "model_module_version": "1.5.0",
          "state": {
            "_dom_classes": [],
            "_model_module": "@jupyter-widgets/controls",
            "_model_module_version": "1.5.0",
            "_model_name": "HTMLModel",
            "_view_count": null,
            "_view_module": "@jupyter-widgets/controls",
            "_view_module_version": "1.5.0",
            "_view_name": "HTMLView",
            "description": "",
            "description_tooltip": null,
            "layout": "IPY_MODEL_7cbabe4e9f254e2eb2efe68a4af85739",
            "placeholder": "​",
            "style": "IPY_MODEL_3e2f8c791fbb4732a7d4bf347ee09e5b",
            "value": "HopSkipJump: 100%"
          }
        },
        "0f0403b421a74e83aa7ea20ed283b8a3": {
          "model_module": "@jupyter-widgets/controls",
          "model_name": "FloatProgressModel",
          "model_module_version": "1.5.0",
          "state": {
            "_dom_classes": [],
            "_model_module": "@jupyter-widgets/controls",
            "_model_module_version": "1.5.0",
            "_model_name": "FloatProgressModel",
            "_view_count": null,
            "_view_module": "@jupyter-widgets/controls",
            "_view_module_version": "1.5.0",
            "_view_name": "ProgressView",
            "bar_style": "success",
            "description": "",
            "description_tooltip": null,
            "layout": "IPY_MODEL_ece3574d069f4ab68816c21cc18629f6",
            "max": 200,
            "min": 0,
            "orientation": "horizontal",
            "style": "IPY_MODEL_66f7c85099db463caeb3ed5682683c9f",
            "value": 200
          }
        },
        "7604c4808e694dfd8113ed5e3659efae": {
          "model_module": "@jupyter-widgets/controls",
          "model_name": "HTMLModel",
          "model_module_version": "1.5.0",
          "state": {
            "_dom_classes": [],
            "_model_module": "@jupyter-widgets/controls",
            "_model_module_version": "1.5.0",
            "_model_name": "HTMLModel",
            "_view_count": null,
            "_view_module": "@jupyter-widgets/controls",
            "_view_module_version": "1.5.0",
            "_view_name": "HTMLView",
            "description": "",
            "description_tooltip": null,
            "layout": "IPY_MODEL_787cd49fe51e4fa7986b0fe84736a038",
            "placeholder": "​",
            "style": "IPY_MODEL_e1967c6644c84e658e9723bccedf505c",
            "value": " 200/200 [03:27&lt;00:00,  1.02s/it]"
          }
        },
        "399187cf269444fb8ad4be2884e21a05": {
          "model_module": "@jupyter-widgets/base",
          "model_name": "LayoutModel",
          "model_module_version": "1.2.0",
          "state": {
            "_model_module": "@jupyter-widgets/base",
            "_model_module_version": "1.2.0",
            "_model_name": "LayoutModel",
            "_view_count": null,
            "_view_module": "@jupyter-widgets/base",
            "_view_module_version": "1.2.0",
            "_view_name": "LayoutView",
            "align_content": null,
            "align_items": null,
            "align_self": null,
            "border": null,
            "bottom": null,
            "display": null,
            "flex": null,
            "flex_flow": null,
            "grid_area": null,
            "grid_auto_columns": null,
            "grid_auto_flow": null,
            "grid_auto_rows": null,
            "grid_column": null,
            "grid_gap": null,
            "grid_row": null,
            "grid_template_areas": null,
            "grid_template_columns": null,
            "grid_template_rows": null,
            "height": null,
            "justify_content": null,
            "justify_items": null,
            "left": null,
            "margin": null,
            "max_height": null,
            "max_width": null,
            "min_height": null,
            "min_width": null,
            "object_fit": null,
            "object_position": null,
            "order": null,
            "overflow": null,
            "overflow_x": null,
            "overflow_y": null,
            "padding": null,
            "right": null,
            "top": null,
            "visibility": null,
            "width": null
          }
        },
        "7cbabe4e9f254e2eb2efe68a4af85739": {
          "model_module": "@jupyter-widgets/base",
          "model_name": "LayoutModel",
          "model_module_version": "1.2.0",
          "state": {
            "_model_module": "@jupyter-widgets/base",
            "_model_module_version": "1.2.0",
            "_model_name": "LayoutModel",
            "_view_count": null,
            "_view_module": "@jupyter-widgets/base",
            "_view_module_version": "1.2.0",
            "_view_name": "LayoutView",
            "align_content": null,
            "align_items": null,
            "align_self": null,
            "border": null,
            "bottom": null,
            "display": null,
            "flex": null,
            "flex_flow": null,
            "grid_area": null,
            "grid_auto_columns": null,
            "grid_auto_flow": null,
            "grid_auto_rows": null,
            "grid_column": null,
            "grid_gap": null,
            "grid_row": null,
            "grid_template_areas": null,
            "grid_template_columns": null,
            "grid_template_rows": null,
            "height": null,
            "justify_content": null,
            "justify_items": null,
            "left": null,
            "margin": null,
            "max_height": null,
            "max_width": null,
            "min_height": null,
            "min_width": null,
            "object_fit": null,
            "object_position": null,
            "order": null,
            "overflow": null,
            "overflow_x": null,
            "overflow_y": null,
            "padding": null,
            "right": null,
            "top": null,
            "visibility": null,
            "width": null
          }
        },
        "3e2f8c791fbb4732a7d4bf347ee09e5b": {
          "model_module": "@jupyter-widgets/controls",
          "model_name": "DescriptionStyleModel",
          "model_module_version": "1.5.0",
          "state": {
            "_model_module": "@jupyter-widgets/controls",
            "_model_module_version": "1.5.0",
            "_model_name": "DescriptionStyleModel",
            "_view_count": null,
            "_view_module": "@jupyter-widgets/base",
            "_view_module_version": "1.2.0",
            "_view_name": "StyleView",
            "description_width": ""
          }
        },
        "ece3574d069f4ab68816c21cc18629f6": {
          "model_module": "@jupyter-widgets/base",
          "model_name": "LayoutModel",
          "model_module_version": "1.2.0",
          "state": {
            "_model_module": "@jupyter-widgets/base",
            "_model_module_version": "1.2.0",
            "_model_name": "LayoutModel",
            "_view_count": null,
            "_view_module": "@jupyter-widgets/base",
            "_view_module_version": "1.2.0",
            "_view_name": "LayoutView",
            "align_content": null,
            "align_items": null,
            "align_self": null,
            "border": null,
            "bottom": null,
            "display": null,
            "flex": null,
            "flex_flow": null,
            "grid_area": null,
            "grid_auto_columns": null,
            "grid_auto_flow": null,
            "grid_auto_rows": null,
            "grid_column": null,
            "grid_gap": null,
            "grid_row": null,
            "grid_template_areas": null,
            "grid_template_columns": null,
            "grid_template_rows": null,
            "height": null,
            "justify_content": null,
            "justify_items": null,
            "left": null,
            "margin": null,
            "max_height": null,
            "max_width": null,
            "min_height": null,
            "min_width": null,
            "object_fit": null,
            "object_position": null,
            "order": null,
            "overflow": null,
            "overflow_x": null,
            "overflow_y": null,
            "padding": null,
            "right": null,
            "top": null,
            "visibility": null,
            "width": null
          }
        },
        "66f7c85099db463caeb3ed5682683c9f": {
          "model_module": "@jupyter-widgets/controls",
          "model_name": "ProgressStyleModel",
          "model_module_version": "1.5.0",
          "state": {
            "_model_module": "@jupyter-widgets/controls",
            "_model_module_version": "1.5.0",
            "_model_name": "ProgressStyleModel",
            "_view_count": null,
            "_view_module": "@jupyter-widgets/base",
            "_view_module_version": "1.2.0",
            "_view_name": "StyleView",
            "bar_color": null,
            "description_width": ""
          }
        },
        "787cd49fe51e4fa7986b0fe84736a038": {
          "model_module": "@jupyter-widgets/base",
          "model_name": "LayoutModel",
          "model_module_version": "1.2.0",
          "state": {
            "_model_module": "@jupyter-widgets/base",
            "_model_module_version": "1.2.0",
            "_model_name": "LayoutModel",
            "_view_count": null,
            "_view_module": "@jupyter-widgets/base",
            "_view_module_version": "1.2.0",
            "_view_name": "LayoutView",
            "align_content": null,
            "align_items": null,
            "align_self": null,
            "border": null,
            "bottom": null,
            "display": null,
            "flex": null,
            "flex_flow": null,
            "grid_area": null,
            "grid_auto_columns": null,
            "grid_auto_flow": null,
            "grid_auto_rows": null,
            "grid_column": null,
            "grid_gap": null,
            "grid_row": null,
            "grid_template_areas": null,
            "grid_template_columns": null,
            "grid_template_rows": null,
            "height": null,
            "justify_content": null,
            "justify_items": null,
            "left": null,
            "margin": null,
            "max_height": null,
            "max_width": null,
            "min_height": null,
            "min_width": null,
            "object_fit": null,
            "object_position": null,
            "order": null,
            "overflow": null,
            "overflow_x": null,
            "overflow_y": null,
            "padding": null,
            "right": null,
            "top": null,
            "visibility": null,
            "width": null
          }
        },
        "e1967c6644c84e658e9723bccedf505c": {
          "model_module": "@jupyter-widgets/controls",
          "model_name": "DescriptionStyleModel",
          "model_module_version": "1.5.0",
          "state": {
            "_model_module": "@jupyter-widgets/controls",
            "_model_module_version": "1.5.0",
            "_model_name": "DescriptionStyleModel",
            "_view_count": null,
            "_view_module": "@jupyter-widgets/base",
            "_view_module_version": "1.2.0",
            "_view_name": "StyleView",
            "description_width": ""
          }
        },
        "053e1cad70fe48dba3fb3ad2c05c10b5": {
          "model_module": "@jupyter-widgets/controls",
          "model_name": "HBoxModel",
          "model_module_version": "1.5.0",
          "state": {
            "_dom_classes": [],
            "_model_module": "@jupyter-widgets/controls",
            "_model_module_version": "1.5.0",
            "_model_name": "HBoxModel",
            "_view_count": null,
            "_view_module": "@jupyter-widgets/controls",
            "_view_module_version": "1.5.0",
            "_view_name": "HBoxView",
            "box_style": "",
            "children": [
              "IPY_MODEL_19037cbba26049a0bc9e2eea345c1b32",
              "IPY_MODEL_8105ca4910284fe7a342cb3d38010714",
              "IPY_MODEL_1d17427d69d448c2a8a2a01a320c50ed"
            ],
            "layout": "IPY_MODEL_1320243dd80848368ddfb071dac1140c"
          }
        },
        "19037cbba26049a0bc9e2eea345c1b32": {
          "model_module": "@jupyter-widgets/controls",
          "model_name": "HTMLModel",
          "model_module_version": "1.5.0",
          "state": {
            "_dom_classes": [],
            "_model_module": "@jupyter-widgets/controls",
            "_model_module_version": "1.5.0",
            "_model_name": "HTMLModel",
            "_view_count": null,
            "_view_module": "@jupyter-widgets/controls",
            "_view_module_version": "1.5.0",
            "_view_name": "HTMLView",
            "description": "",
            "description_tooltip": null,
            "layout": "IPY_MODEL_e7bb167c852c4425842f661b8d3fde95",
            "placeholder": "​",
            "style": "IPY_MODEL_2551556e60ce4f05aaffadf32cae5ffd",
            "value": "HopSkipJump: 100%"
          }
        },
        "8105ca4910284fe7a342cb3d38010714": {
          "model_module": "@jupyter-widgets/controls",
          "model_name": "FloatProgressModel",
          "model_module_version": "1.5.0",
          "state": {
            "_dom_classes": [],
            "_model_module": "@jupyter-widgets/controls",
            "_model_module_version": "1.5.0",
            "_model_name": "FloatProgressModel",
            "_view_count": null,
            "_view_module": "@jupyter-widgets/controls",
            "_view_module_version": "1.5.0",
            "_view_name": "ProgressView",
            "bar_style": "success",
            "description": "",
            "description_tooltip": null,
            "layout": "IPY_MODEL_eb5c5cc7713d4d1495edb74ec4293f82",
            "max": 1500,
            "min": 0,
            "orientation": "horizontal",
            "style": "IPY_MODEL_80164ce1661b4808b297331662c69b5c",
            "value": 1500
          }
        },
        "1d17427d69d448c2a8a2a01a320c50ed": {
          "model_module": "@jupyter-widgets/controls",
          "model_name": "HTMLModel",
          "model_module_version": "1.5.0",
          "state": {
            "_dom_classes": [],
            "_model_module": "@jupyter-widgets/controls",
            "_model_module_version": "1.5.0",
            "_model_name": "HTMLModel",
            "_view_count": null,
            "_view_module": "@jupyter-widgets/controls",
            "_view_module_version": "1.5.0",
            "_view_name": "HTMLView",
            "description": "",
            "description_tooltip": null,
            "layout": "IPY_MODEL_43e4121a553a476fa6acd8c8094c72c8",
            "placeholder": "​",
            "style": "IPY_MODEL_c0a984ef885a4a918cd6126c8013a70c",
            "value": " 1500/1500 [53:28&lt;00:00,  2.14s/it]"
          }
        },
        "1320243dd80848368ddfb071dac1140c": {
          "model_module": "@jupyter-widgets/base",
          "model_name": "LayoutModel",
          "model_module_version": "1.2.0",
          "state": {
            "_model_module": "@jupyter-widgets/base",
            "_model_module_version": "1.2.0",
            "_model_name": "LayoutModel",
            "_view_count": null,
            "_view_module": "@jupyter-widgets/base",
            "_view_module_version": "1.2.0",
            "_view_name": "LayoutView",
            "align_content": null,
            "align_items": null,
            "align_self": null,
            "border": null,
            "bottom": null,
            "display": null,
            "flex": null,
            "flex_flow": null,
            "grid_area": null,
            "grid_auto_columns": null,
            "grid_auto_flow": null,
            "grid_auto_rows": null,
            "grid_column": null,
            "grid_gap": null,
            "grid_row": null,
            "grid_template_areas": null,
            "grid_template_columns": null,
            "grid_template_rows": null,
            "height": null,
            "justify_content": null,
            "justify_items": null,
            "left": null,
            "margin": null,
            "max_height": null,
            "max_width": null,
            "min_height": null,
            "min_width": null,
            "object_fit": null,
            "object_position": null,
            "order": null,
            "overflow": null,
            "overflow_x": null,
            "overflow_y": null,
            "padding": null,
            "right": null,
            "top": null,
            "visibility": null,
            "width": null
          }
        },
        "e7bb167c852c4425842f661b8d3fde95": {
          "model_module": "@jupyter-widgets/base",
          "model_name": "LayoutModel",
          "model_module_version": "1.2.0",
          "state": {
            "_model_module": "@jupyter-widgets/base",
            "_model_module_version": "1.2.0",
            "_model_name": "LayoutModel",
            "_view_count": null,
            "_view_module": "@jupyter-widgets/base",
            "_view_module_version": "1.2.0",
            "_view_name": "LayoutView",
            "align_content": null,
            "align_items": null,
            "align_self": null,
            "border": null,
            "bottom": null,
            "display": null,
            "flex": null,
            "flex_flow": null,
            "grid_area": null,
            "grid_auto_columns": null,
            "grid_auto_flow": null,
            "grid_auto_rows": null,
            "grid_column": null,
            "grid_gap": null,
            "grid_row": null,
            "grid_template_areas": null,
            "grid_template_columns": null,
            "grid_template_rows": null,
            "height": null,
            "justify_content": null,
            "justify_items": null,
            "left": null,
            "margin": null,
            "max_height": null,
            "max_width": null,
            "min_height": null,
            "min_width": null,
            "object_fit": null,
            "object_position": null,
            "order": null,
            "overflow": null,
            "overflow_x": null,
            "overflow_y": null,
            "padding": null,
            "right": null,
            "top": null,
            "visibility": null,
            "width": null
          }
        },
        "2551556e60ce4f05aaffadf32cae5ffd": {
          "model_module": "@jupyter-widgets/controls",
          "model_name": "DescriptionStyleModel",
          "model_module_version": "1.5.0",
          "state": {
            "_model_module": "@jupyter-widgets/controls",
            "_model_module_version": "1.5.0",
            "_model_name": "DescriptionStyleModel",
            "_view_count": null,
            "_view_module": "@jupyter-widgets/base",
            "_view_module_version": "1.2.0",
            "_view_name": "StyleView",
            "description_width": ""
          }
        },
        "eb5c5cc7713d4d1495edb74ec4293f82": {
          "model_module": "@jupyter-widgets/base",
          "model_name": "LayoutModel",
          "model_module_version": "1.2.0",
          "state": {
            "_model_module": "@jupyter-widgets/base",
            "_model_module_version": "1.2.0",
            "_model_name": "LayoutModel",
            "_view_count": null,
            "_view_module": "@jupyter-widgets/base",
            "_view_module_version": "1.2.0",
            "_view_name": "LayoutView",
            "align_content": null,
            "align_items": null,
            "align_self": null,
            "border": null,
            "bottom": null,
            "display": null,
            "flex": null,
            "flex_flow": null,
            "grid_area": null,
            "grid_auto_columns": null,
            "grid_auto_flow": null,
            "grid_auto_rows": null,
            "grid_column": null,
            "grid_gap": null,
            "grid_row": null,
            "grid_template_areas": null,
            "grid_template_columns": null,
            "grid_template_rows": null,
            "height": null,
            "justify_content": null,
            "justify_items": null,
            "left": null,
            "margin": null,
            "max_height": null,
            "max_width": null,
            "min_height": null,
            "min_width": null,
            "object_fit": null,
            "object_position": null,
            "order": null,
            "overflow": null,
            "overflow_x": null,
            "overflow_y": null,
            "padding": null,
            "right": null,
            "top": null,
            "visibility": null,
            "width": null
          }
        },
        "80164ce1661b4808b297331662c69b5c": {
          "model_module": "@jupyter-widgets/controls",
          "model_name": "ProgressStyleModel",
          "model_module_version": "1.5.0",
          "state": {
            "_model_module": "@jupyter-widgets/controls",
            "_model_module_version": "1.5.0",
            "_model_name": "ProgressStyleModel",
            "_view_count": null,
            "_view_module": "@jupyter-widgets/base",
            "_view_module_version": "1.2.0",
            "_view_name": "StyleView",
            "bar_color": null,
            "description_width": ""
          }
        },
        "43e4121a553a476fa6acd8c8094c72c8": {
          "model_module": "@jupyter-widgets/base",
          "model_name": "LayoutModel",
          "model_module_version": "1.2.0",
          "state": {
            "_model_module": "@jupyter-widgets/base",
            "_model_module_version": "1.2.0",
            "_model_name": "LayoutModel",
            "_view_count": null,
            "_view_module": "@jupyter-widgets/base",
            "_view_module_version": "1.2.0",
            "_view_name": "LayoutView",
            "align_content": null,
            "align_items": null,
            "align_self": null,
            "border": null,
            "bottom": null,
            "display": null,
            "flex": null,
            "flex_flow": null,
            "grid_area": null,
            "grid_auto_columns": null,
            "grid_auto_flow": null,
            "grid_auto_rows": null,
            "grid_column": null,
            "grid_gap": null,
            "grid_row": null,
            "grid_template_areas": null,
            "grid_template_columns": null,
            "grid_template_rows": null,
            "height": null,
            "justify_content": null,
            "justify_items": null,
            "left": null,
            "margin": null,
            "max_height": null,
            "max_width": null,
            "min_height": null,
            "min_width": null,
            "object_fit": null,
            "object_position": null,
            "order": null,
            "overflow": null,
            "overflow_x": null,
            "overflow_y": null,
            "padding": null,
            "right": null,
            "top": null,
            "visibility": null,
            "width": null
          }
        },
        "c0a984ef885a4a918cd6126c8013a70c": {
          "model_module": "@jupyter-widgets/controls",
          "model_name": "DescriptionStyleModel",
          "model_module_version": "1.5.0",
          "state": {
            "_model_module": "@jupyter-widgets/controls",
            "_model_module_version": "1.5.0",
            "_model_name": "DescriptionStyleModel",
            "_view_count": null,
            "_view_module": "@jupyter-widgets/base",
            "_view_module_version": "1.2.0",
            "_view_name": "StyleView",
            "description_width": ""
          }
        },
        "aa3e021ff55940758ac1c0dccdb840ac": {
          "model_module": "@jupyter-widgets/controls",
          "model_name": "HBoxModel",
          "model_module_version": "1.5.0",
          "state": {
            "_dom_classes": [],
            "_model_module": "@jupyter-widgets/controls",
            "_model_module_version": "1.5.0",
            "_model_name": "HBoxModel",
            "_view_count": null,
            "_view_module": "@jupyter-widgets/controls",
            "_view_module_version": "1.5.0",
            "_view_name": "HBoxView",
            "box_style": "",
            "children": [
              "IPY_MODEL_5b075cc19af849b58c3b313f983801fc",
              "IPY_MODEL_6fa719c88c9f41bda7f46e3eb1d217ca",
              "IPY_MODEL_86ec59c6d9d24bfda53db30eef595d5c"
            ],
            "layout": "IPY_MODEL_5441a4d338484b21af97d05027e5ae1d"
          }
        },
        "5b075cc19af849b58c3b313f983801fc": {
          "model_module": "@jupyter-widgets/controls",
          "model_name": "HTMLModel",
          "model_module_version": "1.5.0",
          "state": {
            "_dom_classes": [],
            "_model_module": "@jupyter-widgets/controls",
            "_model_module_version": "1.5.0",
            "_model_name": "HTMLModel",
            "_view_count": null,
            "_view_module": "@jupyter-widgets/controls",
            "_view_module_version": "1.5.0",
            "_view_name": "HTMLView",
            "description": "",
            "description_tooltip": null,
            "layout": "IPY_MODEL_6dd089a605dd4033b3c92b9a95a251ca",
            "placeholder": "​",
            "style": "IPY_MODEL_8b724df7706c46e58b37cb66fcfc6bab",
            "value": "HopSkipJump: 100%"
          }
        },
        "6fa719c88c9f41bda7f46e3eb1d217ca": {
          "model_module": "@jupyter-widgets/controls",
          "model_name": "FloatProgressModel",
          "model_module_version": "1.5.0",
          "state": {
            "_dom_classes": [],
            "_model_module": "@jupyter-widgets/controls",
            "_model_module_version": "1.5.0",
            "_model_name": "FloatProgressModel",
            "_view_count": null,
            "_view_module": "@jupyter-widgets/controls",
            "_view_module_version": "1.5.0",
            "_view_name": "ProgressView",
            "bar_style": "success",
            "description": "",
            "description_tooltip": null,
            "layout": "IPY_MODEL_792d51fe818a4f89a1eee33917caf2d4",
            "max": 1500,
            "min": 0,
            "orientation": "horizontal",
            "style": "IPY_MODEL_b31109a5c2b0485e958e25dff5f03114",
            "value": 1500
          }
        },
        "86ec59c6d9d24bfda53db30eef595d5c": {
          "model_module": "@jupyter-widgets/controls",
          "model_name": "HTMLModel",
          "model_module_version": "1.5.0",
          "state": {
            "_dom_classes": [],
            "_model_module": "@jupyter-widgets/controls",
            "_model_module_version": "1.5.0",
            "_model_name": "HTMLModel",
            "_view_count": null,
            "_view_module": "@jupyter-widgets/controls",
            "_view_module_version": "1.5.0",
            "_view_name": "HTMLView",
            "description": "",
            "description_tooltip": null,
            "layout": "IPY_MODEL_240e036de9144be3b494dce613f4919e",
            "placeholder": "​",
            "style": "IPY_MODEL_bb39b70de2a741ed885af7c8b1ece0e1",
            "value": " 1500/1500 [1:40:43&lt;00:00,  4.03s/it]"
          }
        },
        "5441a4d338484b21af97d05027e5ae1d": {
          "model_module": "@jupyter-widgets/base",
          "model_name": "LayoutModel",
          "model_module_version": "1.2.0",
          "state": {
            "_model_module": "@jupyter-widgets/base",
            "_model_module_version": "1.2.0",
            "_model_name": "LayoutModel",
            "_view_count": null,
            "_view_module": "@jupyter-widgets/base",
            "_view_module_version": "1.2.0",
            "_view_name": "LayoutView",
            "align_content": null,
            "align_items": null,
            "align_self": null,
            "border": null,
            "bottom": null,
            "display": null,
            "flex": null,
            "flex_flow": null,
            "grid_area": null,
            "grid_auto_columns": null,
            "grid_auto_flow": null,
            "grid_auto_rows": null,
            "grid_column": null,
            "grid_gap": null,
            "grid_row": null,
            "grid_template_areas": null,
            "grid_template_columns": null,
            "grid_template_rows": null,
            "height": null,
            "justify_content": null,
            "justify_items": null,
            "left": null,
            "margin": null,
            "max_height": null,
            "max_width": null,
            "min_height": null,
            "min_width": null,
            "object_fit": null,
            "object_position": null,
            "order": null,
            "overflow": null,
            "overflow_x": null,
            "overflow_y": null,
            "padding": null,
            "right": null,
            "top": null,
            "visibility": null,
            "width": null
          }
        },
        "6dd089a605dd4033b3c92b9a95a251ca": {
          "model_module": "@jupyter-widgets/base",
          "model_name": "LayoutModel",
          "model_module_version": "1.2.0",
          "state": {
            "_model_module": "@jupyter-widgets/base",
            "_model_module_version": "1.2.0",
            "_model_name": "LayoutModel",
            "_view_count": null,
            "_view_module": "@jupyter-widgets/base",
            "_view_module_version": "1.2.0",
            "_view_name": "LayoutView",
            "align_content": null,
            "align_items": null,
            "align_self": null,
            "border": null,
            "bottom": null,
            "display": null,
            "flex": null,
            "flex_flow": null,
            "grid_area": null,
            "grid_auto_columns": null,
            "grid_auto_flow": null,
            "grid_auto_rows": null,
            "grid_column": null,
            "grid_gap": null,
            "grid_row": null,
            "grid_template_areas": null,
            "grid_template_columns": null,
            "grid_template_rows": null,
            "height": null,
            "justify_content": null,
            "justify_items": null,
            "left": null,
            "margin": null,
            "max_height": null,
            "max_width": null,
            "min_height": null,
            "min_width": null,
            "object_fit": null,
            "object_position": null,
            "order": null,
            "overflow": null,
            "overflow_x": null,
            "overflow_y": null,
            "padding": null,
            "right": null,
            "top": null,
            "visibility": null,
            "width": null
          }
        },
        "8b724df7706c46e58b37cb66fcfc6bab": {
          "model_module": "@jupyter-widgets/controls",
          "model_name": "DescriptionStyleModel",
          "model_module_version": "1.5.0",
          "state": {
            "_model_module": "@jupyter-widgets/controls",
            "_model_module_version": "1.5.0",
            "_model_name": "DescriptionStyleModel",
            "_view_count": null,
            "_view_module": "@jupyter-widgets/base",
            "_view_module_version": "1.2.0",
            "_view_name": "StyleView",
            "description_width": ""
          }
        },
        "792d51fe818a4f89a1eee33917caf2d4": {
          "model_module": "@jupyter-widgets/base",
          "model_name": "LayoutModel",
          "model_module_version": "1.2.0",
          "state": {
            "_model_module": "@jupyter-widgets/base",
            "_model_module_version": "1.2.0",
            "_model_name": "LayoutModel",
            "_view_count": null,
            "_view_module": "@jupyter-widgets/base",
            "_view_module_version": "1.2.0",
            "_view_name": "LayoutView",
            "align_content": null,
            "align_items": null,
            "align_self": null,
            "border": null,
            "bottom": null,
            "display": null,
            "flex": null,
            "flex_flow": null,
            "grid_area": null,
            "grid_auto_columns": null,
            "grid_auto_flow": null,
            "grid_auto_rows": null,
            "grid_column": null,
            "grid_gap": null,
            "grid_row": null,
            "grid_template_areas": null,
            "grid_template_columns": null,
            "grid_template_rows": null,
            "height": null,
            "justify_content": null,
            "justify_items": null,
            "left": null,
            "margin": null,
            "max_height": null,
            "max_width": null,
            "min_height": null,
            "min_width": null,
            "object_fit": null,
            "object_position": null,
            "order": null,
            "overflow": null,
            "overflow_x": null,
            "overflow_y": null,
            "padding": null,
            "right": null,
            "top": null,
            "visibility": null,
            "width": null
          }
        },
        "b31109a5c2b0485e958e25dff5f03114": {
          "model_module": "@jupyter-widgets/controls",
          "model_name": "ProgressStyleModel",
          "model_module_version": "1.5.0",
          "state": {
            "_model_module": "@jupyter-widgets/controls",
            "_model_module_version": "1.5.0",
            "_model_name": "ProgressStyleModel",
            "_view_count": null,
            "_view_module": "@jupyter-widgets/base",
            "_view_module_version": "1.2.0",
            "_view_name": "StyleView",
            "bar_color": null,
            "description_width": ""
          }
        },
        "240e036de9144be3b494dce613f4919e": {
          "model_module": "@jupyter-widgets/base",
          "model_name": "LayoutModel",
          "model_module_version": "1.2.0",
          "state": {
            "_model_module": "@jupyter-widgets/base",
            "_model_module_version": "1.2.0",
            "_model_name": "LayoutModel",
            "_view_count": null,
            "_view_module": "@jupyter-widgets/base",
            "_view_module_version": "1.2.0",
            "_view_name": "LayoutView",
            "align_content": null,
            "align_items": null,
            "align_self": null,
            "border": null,
            "bottom": null,
            "display": null,
            "flex": null,
            "flex_flow": null,
            "grid_area": null,
            "grid_auto_columns": null,
            "grid_auto_flow": null,
            "grid_auto_rows": null,
            "grid_column": null,
            "grid_gap": null,
            "grid_row": null,
            "grid_template_areas": null,
            "grid_template_columns": null,
            "grid_template_rows": null,
            "height": null,
            "justify_content": null,
            "justify_items": null,
            "left": null,
            "margin": null,
            "max_height": null,
            "max_width": null,
            "min_height": null,
            "min_width": null,
            "object_fit": null,
            "object_position": null,
            "order": null,
            "overflow": null,
            "overflow_x": null,
            "overflow_y": null,
            "padding": null,
            "right": null,
            "top": null,
            "visibility": null,
            "width": null
          }
        },
        "bb39b70de2a741ed885af7c8b1ece0e1": {
          "model_module": "@jupyter-widgets/controls",
          "model_name": "DescriptionStyleModel",
          "model_module_version": "1.5.0",
          "state": {
            "_model_module": "@jupyter-widgets/controls",
            "_model_module_version": "1.5.0",
            "_model_name": "DescriptionStyleModel",
            "_view_count": null,
            "_view_module": "@jupyter-widgets/base",
            "_view_module_version": "1.2.0",
            "_view_name": "StyleView",
            "description_width": ""
          }
        },
        "5c4efeb1f13840d8b8f8f11859d1048f": {
          "model_module": "@jupyter-widgets/controls",
          "model_name": "HBoxModel",
          "model_module_version": "1.5.0",
          "state": {
            "_dom_classes": [],
            "_model_module": "@jupyter-widgets/controls",
            "_model_module_version": "1.5.0",
            "_model_name": "HBoxModel",
            "_view_count": null,
            "_view_module": "@jupyter-widgets/controls",
            "_view_module_version": "1.5.0",
            "_view_name": "HBoxView",
            "box_style": "",
            "children": [
              "IPY_MODEL_de2d2efbd49f4ce48235530475558e8e",
              "IPY_MODEL_4b120e735f4d4b2ca8027f21e165b0d3",
              "IPY_MODEL_f585a5c263334e8fa8750fd0a234e232"
            ],
            "layout": "IPY_MODEL_0737bfcefb274c8abfd09d9efdd7dc65"
          }
        },
        "de2d2efbd49f4ce48235530475558e8e": {
          "model_module": "@jupyter-widgets/controls",
          "model_name": "HTMLModel",
          "model_module_version": "1.5.0",
          "state": {
            "_dom_classes": [],
            "_model_module": "@jupyter-widgets/controls",
            "_model_module_version": "1.5.0",
            "_model_name": "HTMLModel",
            "_view_count": null,
            "_view_module": "@jupyter-widgets/controls",
            "_view_module_version": "1.5.0",
            "_view_name": "HTMLView",
            "description": "",
            "description_tooltip": null,
            "layout": "IPY_MODEL_fb7c7b0815ec4690b9c7c257563ba013",
            "placeholder": "​",
            "style": "IPY_MODEL_aae6d1cee2c847c1b03fdf9b06e5e644",
            "value": "HopSkipJump: 100%"
          }
        },
        "4b120e735f4d4b2ca8027f21e165b0d3": {
          "model_module": "@jupyter-widgets/controls",
          "model_name": "FloatProgressModel",
          "model_module_version": "1.5.0",
          "state": {
            "_dom_classes": [],
            "_model_module": "@jupyter-widgets/controls",
            "_model_module_version": "1.5.0",
            "_model_name": "FloatProgressModel",
            "_view_count": null,
            "_view_module": "@jupyter-widgets/controls",
            "_view_module_version": "1.5.0",
            "_view_name": "ProgressView",
            "bar_style": "success",
            "description": "",
            "description_tooltip": null,
            "layout": "IPY_MODEL_ca2c442a694a424a93590f5b0bf15160",
            "max": 1500,
            "min": 0,
            "orientation": "horizontal",
            "style": "IPY_MODEL_372b0d56d5724622b0f867eb98623142",
            "value": 1500
          }
        },
        "f585a5c263334e8fa8750fd0a234e232": {
          "model_module": "@jupyter-widgets/controls",
          "model_name": "HTMLModel",
          "model_module_version": "1.5.0",
          "state": {
            "_dom_classes": [],
            "_model_module": "@jupyter-widgets/controls",
            "_model_module_version": "1.5.0",
            "_model_name": "HTMLModel",
            "_view_count": null,
            "_view_module": "@jupyter-widgets/controls",
            "_view_module_version": "1.5.0",
            "_view_name": "HTMLView",
            "description": "",
            "description_tooltip": null,
            "layout": "IPY_MODEL_b13d8a9e39254aecaf4644bd365cc113",
            "placeholder": "​",
            "style": "IPY_MODEL_93336b7baecd4659ab562d0b24696559",
            "value": " 1500/1500 [55:30&lt;00:00,  2.15s/it]"
          }
        },
        "0737bfcefb274c8abfd09d9efdd7dc65": {
          "model_module": "@jupyter-widgets/base",
          "model_name": "LayoutModel",
          "model_module_version": "1.2.0",
          "state": {
            "_model_module": "@jupyter-widgets/base",
            "_model_module_version": "1.2.0",
            "_model_name": "LayoutModel",
            "_view_count": null,
            "_view_module": "@jupyter-widgets/base",
            "_view_module_version": "1.2.0",
            "_view_name": "LayoutView",
            "align_content": null,
            "align_items": null,
            "align_self": null,
            "border": null,
            "bottom": null,
            "display": null,
            "flex": null,
            "flex_flow": null,
            "grid_area": null,
            "grid_auto_columns": null,
            "grid_auto_flow": null,
            "grid_auto_rows": null,
            "grid_column": null,
            "grid_gap": null,
            "grid_row": null,
            "grid_template_areas": null,
            "grid_template_columns": null,
            "grid_template_rows": null,
            "height": null,
            "justify_content": null,
            "justify_items": null,
            "left": null,
            "margin": null,
            "max_height": null,
            "max_width": null,
            "min_height": null,
            "min_width": null,
            "object_fit": null,
            "object_position": null,
            "order": null,
            "overflow": null,
            "overflow_x": null,
            "overflow_y": null,
            "padding": null,
            "right": null,
            "top": null,
            "visibility": null,
            "width": null
          }
        },
        "fb7c7b0815ec4690b9c7c257563ba013": {
          "model_module": "@jupyter-widgets/base",
          "model_name": "LayoutModel",
          "model_module_version": "1.2.0",
          "state": {
            "_model_module": "@jupyter-widgets/base",
            "_model_module_version": "1.2.0",
            "_model_name": "LayoutModel",
            "_view_count": null,
            "_view_module": "@jupyter-widgets/base",
            "_view_module_version": "1.2.0",
            "_view_name": "LayoutView",
            "align_content": null,
            "align_items": null,
            "align_self": null,
            "border": null,
            "bottom": null,
            "display": null,
            "flex": null,
            "flex_flow": null,
            "grid_area": null,
            "grid_auto_columns": null,
            "grid_auto_flow": null,
            "grid_auto_rows": null,
            "grid_column": null,
            "grid_gap": null,
            "grid_row": null,
            "grid_template_areas": null,
            "grid_template_columns": null,
            "grid_template_rows": null,
            "height": null,
            "justify_content": null,
            "justify_items": null,
            "left": null,
            "margin": null,
            "max_height": null,
            "max_width": null,
            "min_height": null,
            "min_width": null,
            "object_fit": null,
            "object_position": null,
            "order": null,
            "overflow": null,
            "overflow_x": null,
            "overflow_y": null,
            "padding": null,
            "right": null,
            "top": null,
            "visibility": null,
            "width": null
          }
        },
        "aae6d1cee2c847c1b03fdf9b06e5e644": {
          "model_module": "@jupyter-widgets/controls",
          "model_name": "DescriptionStyleModel",
          "model_module_version": "1.5.0",
          "state": {
            "_model_module": "@jupyter-widgets/controls",
            "_model_module_version": "1.5.0",
            "_model_name": "DescriptionStyleModel",
            "_view_count": null,
            "_view_module": "@jupyter-widgets/base",
            "_view_module_version": "1.2.0",
            "_view_name": "StyleView",
            "description_width": ""
          }
        },
        "ca2c442a694a424a93590f5b0bf15160": {
          "model_module": "@jupyter-widgets/base",
          "model_name": "LayoutModel",
          "model_module_version": "1.2.0",
          "state": {
            "_model_module": "@jupyter-widgets/base",
            "_model_module_version": "1.2.0",
            "_model_name": "LayoutModel",
            "_view_count": null,
            "_view_module": "@jupyter-widgets/base",
            "_view_module_version": "1.2.0",
            "_view_name": "LayoutView",
            "align_content": null,
            "align_items": null,
            "align_self": null,
            "border": null,
            "bottom": null,
            "display": null,
            "flex": null,
            "flex_flow": null,
            "grid_area": null,
            "grid_auto_columns": null,
            "grid_auto_flow": null,
            "grid_auto_rows": null,
            "grid_column": null,
            "grid_gap": null,
            "grid_row": null,
            "grid_template_areas": null,
            "grid_template_columns": null,
            "grid_template_rows": null,
            "height": null,
            "justify_content": null,
            "justify_items": null,
            "left": null,
            "margin": null,
            "max_height": null,
            "max_width": null,
            "min_height": null,
            "min_width": null,
            "object_fit": null,
            "object_position": null,
            "order": null,
            "overflow": null,
            "overflow_x": null,
            "overflow_y": null,
            "padding": null,
            "right": null,
            "top": null,
            "visibility": null,
            "width": null
          }
        },
        "372b0d56d5724622b0f867eb98623142": {
          "model_module": "@jupyter-widgets/controls",
          "model_name": "ProgressStyleModel",
          "model_module_version": "1.5.0",
          "state": {
            "_model_module": "@jupyter-widgets/controls",
            "_model_module_version": "1.5.0",
            "_model_name": "ProgressStyleModel",
            "_view_count": null,
            "_view_module": "@jupyter-widgets/base",
            "_view_module_version": "1.2.0",
            "_view_name": "StyleView",
            "bar_color": null,
            "description_width": ""
          }
        },
        "b13d8a9e39254aecaf4644bd365cc113": {
          "model_module": "@jupyter-widgets/base",
          "model_name": "LayoutModel",
          "model_module_version": "1.2.0",
          "state": {
            "_model_module": "@jupyter-widgets/base",
            "_model_module_version": "1.2.0",
            "_model_name": "LayoutModel",
            "_view_count": null,
            "_view_module": "@jupyter-widgets/base",
            "_view_module_version": "1.2.0",
            "_view_name": "LayoutView",
            "align_content": null,
            "align_items": null,
            "align_self": null,
            "border": null,
            "bottom": null,
            "display": null,
            "flex": null,
            "flex_flow": null,
            "grid_area": null,
            "grid_auto_columns": null,
            "grid_auto_flow": null,
            "grid_auto_rows": null,
            "grid_column": null,
            "grid_gap": null,
            "grid_row": null,
            "grid_template_areas": null,
            "grid_template_columns": null,
            "grid_template_rows": null,
            "height": null,
            "justify_content": null,
            "justify_items": null,
            "left": null,
            "margin": null,
            "max_height": null,
            "max_width": null,
            "min_height": null,
            "min_width": null,
            "object_fit": null,
            "object_position": null,
            "order": null,
            "overflow": null,
            "overflow_x": null,
            "overflow_y": null,
            "padding": null,
            "right": null,
            "top": null,
            "visibility": null,
            "width": null
          }
        },
        "93336b7baecd4659ab562d0b24696559": {
          "model_module": "@jupyter-widgets/controls",
          "model_name": "DescriptionStyleModel",
          "model_module_version": "1.5.0",
          "state": {
            "_model_module": "@jupyter-widgets/controls",
            "_model_module_version": "1.5.0",
            "_model_name": "DescriptionStyleModel",
            "_view_count": null,
            "_view_module": "@jupyter-widgets/base",
            "_view_module_version": "1.2.0",
            "_view_name": "StyleView",
            "description_width": ""
          }
        },
        "b2018e601cb544579401b72ee8629c0a": {
          "model_module": "@jupyter-widgets/controls",
          "model_name": "HBoxModel",
          "model_module_version": "1.5.0",
          "state": {
            "_dom_classes": [],
            "_model_module": "@jupyter-widgets/controls",
            "_model_module_version": "1.5.0",
            "_model_name": "HBoxModel",
            "_view_count": null,
            "_view_module": "@jupyter-widgets/controls",
            "_view_module_version": "1.5.0",
            "_view_name": "HBoxView",
            "box_style": "",
            "children": [
              "IPY_MODEL_87acfc97483f49d688fa4000e6e60c87",
              "IPY_MODEL_f5af3fc2dca44d7cac6c63fd92aa65c3",
              "IPY_MODEL_f0153b5223e34fe081a0346a7ae8f2b3"
            ],
            "layout": "IPY_MODEL_ab53695189c74699abc9e85fa2dc0f0b"
          }
        },
        "87acfc97483f49d688fa4000e6e60c87": {
          "model_module": "@jupyter-widgets/controls",
          "model_name": "HTMLModel",
          "model_module_version": "1.5.0",
          "state": {
            "_dom_classes": [],
            "_model_module": "@jupyter-widgets/controls",
            "_model_module_version": "1.5.0",
            "_model_name": "HTMLModel",
            "_view_count": null,
            "_view_module": "@jupyter-widgets/controls",
            "_view_module_version": "1.5.0",
            "_view_name": "HTMLView",
            "description": "",
            "description_tooltip": null,
            "layout": "IPY_MODEL_4c8ef742d38446d6a59f624ca07c7482",
            "placeholder": "​",
            "style": "IPY_MODEL_84ed5a14a22b4d28accdbec7d13def71",
            "value": "HopSkipJump: 100%"
          }
        },
        "f5af3fc2dca44d7cac6c63fd92aa65c3": {
          "model_module": "@jupyter-widgets/controls",
          "model_name": "FloatProgressModel",
          "model_module_version": "1.5.0",
          "state": {
            "_dom_classes": [],
            "_model_module": "@jupyter-widgets/controls",
            "_model_module_version": "1.5.0",
            "_model_name": "FloatProgressModel",
            "_view_count": null,
            "_view_module": "@jupyter-widgets/controls",
            "_view_module_version": "1.5.0",
            "_view_name": "ProgressView",
            "bar_style": "success",
            "description": "",
            "description_tooltip": null,
            "layout": "IPY_MODEL_ca0eda98c4094c64af0773240a0d4211",
            "max": 1500,
            "min": 0,
            "orientation": "horizontal",
            "style": "IPY_MODEL_d50616a0794b4a0c9268f31592af0ff4",
            "value": 1500
          }
        },
        "f0153b5223e34fe081a0346a7ae8f2b3": {
          "model_module": "@jupyter-widgets/controls",
          "model_name": "HTMLModel",
          "model_module_version": "1.5.0",
          "state": {
            "_dom_classes": [],
            "_model_module": "@jupyter-widgets/controls",
            "_model_module_version": "1.5.0",
            "_model_name": "HTMLModel",
            "_view_count": null,
            "_view_module": "@jupyter-widgets/controls",
            "_view_module_version": "1.5.0",
            "_view_name": "HTMLView",
            "description": "",
            "description_tooltip": null,
            "layout": "IPY_MODEL_9a847bf7fa3a4045a97dc5dff252d084",
            "placeholder": "​",
            "style": "IPY_MODEL_d050286c46e14db3999347c0cb786a9c",
            "value": " 1500/1500 [55:46&lt;00:00,  2.17s/it]"
          }
        },
        "ab53695189c74699abc9e85fa2dc0f0b": {
          "model_module": "@jupyter-widgets/base",
          "model_name": "LayoutModel",
          "model_module_version": "1.2.0",
          "state": {
            "_model_module": "@jupyter-widgets/base",
            "_model_module_version": "1.2.0",
            "_model_name": "LayoutModel",
            "_view_count": null,
            "_view_module": "@jupyter-widgets/base",
            "_view_module_version": "1.2.0",
            "_view_name": "LayoutView",
            "align_content": null,
            "align_items": null,
            "align_self": null,
            "border": null,
            "bottom": null,
            "display": null,
            "flex": null,
            "flex_flow": null,
            "grid_area": null,
            "grid_auto_columns": null,
            "grid_auto_flow": null,
            "grid_auto_rows": null,
            "grid_column": null,
            "grid_gap": null,
            "grid_row": null,
            "grid_template_areas": null,
            "grid_template_columns": null,
            "grid_template_rows": null,
            "height": null,
            "justify_content": null,
            "justify_items": null,
            "left": null,
            "margin": null,
            "max_height": null,
            "max_width": null,
            "min_height": null,
            "min_width": null,
            "object_fit": null,
            "object_position": null,
            "order": null,
            "overflow": null,
            "overflow_x": null,
            "overflow_y": null,
            "padding": null,
            "right": null,
            "top": null,
            "visibility": null,
            "width": null
          }
        },
        "4c8ef742d38446d6a59f624ca07c7482": {
          "model_module": "@jupyter-widgets/base",
          "model_name": "LayoutModel",
          "model_module_version": "1.2.0",
          "state": {
            "_model_module": "@jupyter-widgets/base",
            "_model_module_version": "1.2.0",
            "_model_name": "LayoutModel",
            "_view_count": null,
            "_view_module": "@jupyter-widgets/base",
            "_view_module_version": "1.2.0",
            "_view_name": "LayoutView",
            "align_content": null,
            "align_items": null,
            "align_self": null,
            "border": null,
            "bottom": null,
            "display": null,
            "flex": null,
            "flex_flow": null,
            "grid_area": null,
            "grid_auto_columns": null,
            "grid_auto_flow": null,
            "grid_auto_rows": null,
            "grid_column": null,
            "grid_gap": null,
            "grid_row": null,
            "grid_template_areas": null,
            "grid_template_columns": null,
            "grid_template_rows": null,
            "height": null,
            "justify_content": null,
            "justify_items": null,
            "left": null,
            "margin": null,
            "max_height": null,
            "max_width": null,
            "min_height": null,
            "min_width": null,
            "object_fit": null,
            "object_position": null,
            "order": null,
            "overflow": null,
            "overflow_x": null,
            "overflow_y": null,
            "padding": null,
            "right": null,
            "top": null,
            "visibility": null,
            "width": null
          }
        },
        "84ed5a14a22b4d28accdbec7d13def71": {
          "model_module": "@jupyter-widgets/controls",
          "model_name": "DescriptionStyleModel",
          "model_module_version": "1.5.0",
          "state": {
            "_model_module": "@jupyter-widgets/controls",
            "_model_module_version": "1.5.0",
            "_model_name": "DescriptionStyleModel",
            "_view_count": null,
            "_view_module": "@jupyter-widgets/base",
            "_view_module_version": "1.2.0",
            "_view_name": "StyleView",
            "description_width": ""
          }
        },
        "ca0eda98c4094c64af0773240a0d4211": {
          "model_module": "@jupyter-widgets/base",
          "model_name": "LayoutModel",
          "model_module_version": "1.2.0",
          "state": {
            "_model_module": "@jupyter-widgets/base",
            "_model_module_version": "1.2.0",
            "_model_name": "LayoutModel",
            "_view_count": null,
            "_view_module": "@jupyter-widgets/base",
            "_view_module_version": "1.2.0",
            "_view_name": "LayoutView",
            "align_content": null,
            "align_items": null,
            "align_self": null,
            "border": null,
            "bottom": null,
            "display": null,
            "flex": null,
            "flex_flow": null,
            "grid_area": null,
            "grid_auto_columns": null,
            "grid_auto_flow": null,
            "grid_auto_rows": null,
            "grid_column": null,
            "grid_gap": null,
            "grid_row": null,
            "grid_template_areas": null,
            "grid_template_columns": null,
            "grid_template_rows": null,
            "height": null,
            "justify_content": null,
            "justify_items": null,
            "left": null,
            "margin": null,
            "max_height": null,
            "max_width": null,
            "min_height": null,
            "min_width": null,
            "object_fit": null,
            "object_position": null,
            "order": null,
            "overflow": null,
            "overflow_x": null,
            "overflow_y": null,
            "padding": null,
            "right": null,
            "top": null,
            "visibility": null,
            "width": null
          }
        },
        "d50616a0794b4a0c9268f31592af0ff4": {
          "model_module": "@jupyter-widgets/controls",
          "model_name": "ProgressStyleModel",
          "model_module_version": "1.5.0",
          "state": {
            "_model_module": "@jupyter-widgets/controls",
            "_model_module_version": "1.5.0",
            "_model_name": "ProgressStyleModel",
            "_view_count": null,
            "_view_module": "@jupyter-widgets/base",
            "_view_module_version": "1.2.0",
            "_view_name": "StyleView",
            "bar_color": null,
            "description_width": ""
          }
        },
        "9a847bf7fa3a4045a97dc5dff252d084": {
          "model_module": "@jupyter-widgets/base",
          "model_name": "LayoutModel",
          "model_module_version": "1.2.0",
          "state": {
            "_model_module": "@jupyter-widgets/base",
            "_model_module_version": "1.2.0",
            "_model_name": "LayoutModel",
            "_view_count": null,
            "_view_module": "@jupyter-widgets/base",
            "_view_module_version": "1.2.0",
            "_view_name": "LayoutView",
            "align_content": null,
            "align_items": null,
            "align_self": null,
            "border": null,
            "bottom": null,
            "display": null,
            "flex": null,
            "flex_flow": null,
            "grid_area": null,
            "grid_auto_columns": null,
            "grid_auto_flow": null,
            "grid_auto_rows": null,
            "grid_column": null,
            "grid_gap": null,
            "grid_row": null,
            "grid_template_areas": null,
            "grid_template_columns": null,
            "grid_template_rows": null,
            "height": null,
            "justify_content": null,
            "justify_items": null,
            "left": null,
            "margin": null,
            "max_height": null,
            "max_width": null,
            "min_height": null,
            "min_width": null,
            "object_fit": null,
            "object_position": null,
            "order": null,
            "overflow": null,
            "overflow_x": null,
            "overflow_y": null,
            "padding": null,
            "right": null,
            "top": null,
            "visibility": null,
            "width": null
          }
        },
        "d050286c46e14db3999347c0cb786a9c": {
          "model_module": "@jupyter-widgets/controls",
          "model_name": "DescriptionStyleModel",
          "model_module_version": "1.5.0",
          "state": {
            "_model_module": "@jupyter-widgets/controls",
            "_model_module_version": "1.5.0",
            "_model_name": "DescriptionStyleModel",
            "_view_count": null,
            "_view_module": "@jupyter-widgets/base",
            "_view_module_version": "1.2.0",
            "_view_name": "StyleView",
            "description_width": ""
          }
        }
      }
    }
  },
  "cells": [
    {
      "cell_type": "markdown",
      "source": [
        "#Use a proper tensorflow version\n",
        "Our model was build on TF2.14 and it does cause some compatibility issues with TF2.17 so make sure you use the right version"
      ],
      "metadata": {
        "id": "oXS34BaP4hFp"
      }
    },
    {
      "cell_type": "code",
      "execution_count": 1,
      "metadata": {
        "id": "AVrdszHO4W8T",
        "colab": {
          "base_uri": "https://localhost:8080/",
          "height": 1000
        },
        "outputId": "ca99dc26-97f6-45dd-92be-0e56107abe85"
      },
      "outputs": [
        {
          "output_type": "stream",
          "name": "stdout",
          "text": [
            "Collecting tensorflow==2.14.0\n",
            "  Downloading tensorflow-2.14.0-cp310-cp310-manylinux_2_17_x86_64.manylinux2014_x86_64.whl.metadata (4.1 kB)\n",
            "Requirement already satisfied: absl-py>=1.0.0 in /usr/local/lib/python3.10/dist-packages (from tensorflow==2.14.0) (1.4.0)\n",
            "Requirement already satisfied: astunparse>=1.6.0 in /usr/local/lib/python3.10/dist-packages (from tensorflow==2.14.0) (1.6.3)\n",
            "Requirement already satisfied: flatbuffers>=23.5.26 in /usr/local/lib/python3.10/dist-packages (from tensorflow==2.14.0) (24.3.25)\n",
            "Requirement already satisfied: gast!=0.5.0,!=0.5.1,!=0.5.2,>=0.2.1 in /usr/local/lib/python3.10/dist-packages (from tensorflow==2.14.0) (0.6.0)\n",
            "Requirement already satisfied: google-pasta>=0.1.1 in /usr/local/lib/python3.10/dist-packages (from tensorflow==2.14.0) (0.2.0)\n",
            "Requirement already satisfied: h5py>=2.9.0 in /usr/local/lib/python3.10/dist-packages (from tensorflow==2.14.0) (3.12.1)\n",
            "Requirement already satisfied: libclang>=13.0.0 in /usr/local/lib/python3.10/dist-packages (from tensorflow==2.14.0) (18.1.1)\n",
            "Requirement already satisfied: ml-dtypes==0.2.0 in /usr/local/lib/python3.10/dist-packages (from tensorflow==2.14.0) (0.2.0)\n",
            "Requirement already satisfied: numpy>=1.23.5 in /usr/local/lib/python3.10/dist-packages (from tensorflow==2.14.0) (1.26.4)\n",
            "Requirement already satisfied: opt-einsum>=2.3.2 in /usr/local/lib/python3.10/dist-packages (from tensorflow==2.14.0) (3.4.0)\n",
            "Requirement already satisfied: packaging in /usr/local/lib/python3.10/dist-packages (from tensorflow==2.14.0) (24.1)\n",
            "Requirement already satisfied: protobuf!=4.21.0,!=4.21.1,!=4.21.2,!=4.21.3,!=4.21.4,!=4.21.5,<5.0.0dev,>=3.20.3 in /usr/local/lib/python3.10/dist-packages (from tensorflow==2.14.0) (4.25.5)\n",
            "Requirement already satisfied: setuptools in /usr/local/lib/python3.10/dist-packages (from tensorflow==2.14.0) (75.1.0)\n",
            "Requirement already satisfied: six>=1.12.0 in /usr/local/lib/python3.10/dist-packages (from tensorflow==2.14.0) (1.16.0)\n",
            "Requirement already satisfied: termcolor>=1.1.0 in /usr/local/lib/python3.10/dist-packages (from tensorflow==2.14.0) (2.5.0)\n",
            "Requirement already satisfied: typing-extensions>=3.6.6 in /usr/local/lib/python3.10/dist-packages (from tensorflow==2.14.0) (4.12.2)\n",
            "Requirement already satisfied: wrapt<1.15,>=1.11.0 in /usr/local/lib/python3.10/dist-packages (from tensorflow==2.14.0) (1.14.1)\n",
            "Requirement already satisfied: tensorflow-io-gcs-filesystem>=0.23.1 in /usr/local/lib/python3.10/dist-packages (from tensorflow==2.14.0) (0.37.1)\n",
            "Requirement already satisfied: grpcio<2.0,>=1.24.3 in /usr/local/lib/python3.10/dist-packages (from tensorflow==2.14.0) (1.67.1)\n",
            "Collecting tensorboard<2.15,>=2.14 (from tensorflow==2.14.0)\n",
            "  Downloading tensorboard-2.14.1-py3-none-any.whl.metadata (1.7 kB)\n",
            "Collecting tensorflow-estimator<2.15,>=2.14.0 (from tensorflow==2.14.0)\n",
            "  Downloading tensorflow_estimator-2.14.0-py2.py3-none-any.whl.metadata (1.3 kB)\n",
            "Collecting keras<2.15,>=2.14.0 (from tensorflow==2.14.0)\n",
            "  Downloading keras-2.14.0-py3-none-any.whl.metadata (2.4 kB)\n",
            "Requirement already satisfied: wheel<1.0,>=0.23.0 in /usr/local/lib/python3.10/dist-packages (from astunparse>=1.6.0->tensorflow==2.14.0) (0.44.0)\n",
            "Requirement already satisfied: google-auth<3,>=1.6.3 in /usr/local/lib/python3.10/dist-packages (from tensorboard<2.15,>=2.14->tensorflow==2.14.0) (2.27.0)\n",
            "Collecting google-auth-oauthlib<1.1,>=0.5 (from tensorboard<2.15,>=2.14->tensorflow==2.14.0)\n",
            "  Downloading google_auth_oauthlib-1.0.0-py2.py3-none-any.whl.metadata (2.7 kB)\n",
            "Requirement already satisfied: markdown>=2.6.8 in /usr/local/lib/python3.10/dist-packages (from tensorboard<2.15,>=2.14->tensorflow==2.14.0) (3.7)\n",
            "Requirement already satisfied: requests<3,>=2.21.0 in /usr/local/lib/python3.10/dist-packages (from tensorboard<2.15,>=2.14->tensorflow==2.14.0) (2.32.3)\n",
            "Requirement already satisfied: tensorboard-data-server<0.8.0,>=0.7.0 in /usr/local/lib/python3.10/dist-packages (from tensorboard<2.15,>=2.14->tensorflow==2.14.0) (0.7.2)\n",
            "Requirement already satisfied: werkzeug>=1.0.1 in /usr/local/lib/python3.10/dist-packages (from tensorboard<2.15,>=2.14->tensorflow==2.14.0) (3.0.6)\n",
            "Requirement already satisfied: cachetools<6.0,>=2.0.0 in /usr/local/lib/python3.10/dist-packages (from google-auth<3,>=1.6.3->tensorboard<2.15,>=2.14->tensorflow==2.14.0) (5.5.0)\n",
            "Requirement already satisfied: pyasn1-modules>=0.2.1 in /usr/local/lib/python3.10/dist-packages (from google-auth<3,>=1.6.3->tensorboard<2.15,>=2.14->tensorflow==2.14.0) (0.4.1)\n",
            "Requirement already satisfied: rsa<5,>=3.1.4 in /usr/local/lib/python3.10/dist-packages (from google-auth<3,>=1.6.3->tensorboard<2.15,>=2.14->tensorflow==2.14.0) (4.9)\n",
            "Requirement already satisfied: requests-oauthlib>=0.7.0 in /usr/local/lib/python3.10/dist-packages (from google-auth-oauthlib<1.1,>=0.5->tensorboard<2.15,>=2.14->tensorflow==2.14.0) (2.0.0)\n",
            "Requirement already satisfied: charset-normalizer<4,>=2 in /usr/local/lib/python3.10/dist-packages (from requests<3,>=2.21.0->tensorboard<2.15,>=2.14->tensorflow==2.14.0) (3.4.0)\n",
            "Requirement already satisfied: idna<4,>=2.5 in /usr/local/lib/python3.10/dist-packages (from requests<3,>=2.21.0->tensorboard<2.15,>=2.14->tensorflow==2.14.0) (3.10)\n",
            "Requirement already satisfied: urllib3<3,>=1.21.1 in /usr/local/lib/python3.10/dist-packages (from requests<3,>=2.21.0->tensorboard<2.15,>=2.14->tensorflow==2.14.0) (2.2.3)\n",
            "Requirement already satisfied: certifi>=2017.4.17 in /usr/local/lib/python3.10/dist-packages (from requests<3,>=2.21.0->tensorboard<2.15,>=2.14->tensorflow==2.14.0) (2024.8.30)\n",
            "Requirement already satisfied: MarkupSafe>=2.1.1 in /usr/local/lib/python3.10/dist-packages (from werkzeug>=1.0.1->tensorboard<2.15,>=2.14->tensorflow==2.14.0) (3.0.2)\n",
            "Requirement already satisfied: pyasn1<0.7.0,>=0.4.6 in /usr/local/lib/python3.10/dist-packages (from pyasn1-modules>=0.2.1->google-auth<3,>=1.6.3->tensorboard<2.15,>=2.14->tensorflow==2.14.0) (0.6.1)\n",
            "Requirement already satisfied: oauthlib>=3.0.0 in /usr/local/lib/python3.10/dist-packages (from requests-oauthlib>=0.7.0->google-auth-oauthlib<1.1,>=0.5->tensorboard<2.15,>=2.14->tensorflow==2.14.0) (3.2.2)\n",
            "Downloading tensorflow-2.14.0-cp310-cp310-manylinux_2_17_x86_64.manylinux2014_x86_64.whl (489.8 MB)\n",
            "\u001b[2K   \u001b[90m━━━━━━━━━━━━━━━━━━━━━━━━━━━━━━━━━━━━━━━━\u001b[0m \u001b[32m489.8/489.8 MB\u001b[0m \u001b[31m787.4 kB/s\u001b[0m eta \u001b[36m0:00:00\u001b[0m\n",
            "\u001b[?25hDownloading keras-2.14.0-py3-none-any.whl (1.7 MB)\n",
            "\u001b[2K   \u001b[90m━━━━━━━━━━━━━━━━━━━━━━━━━━━━━━━━━━━━━━━━\u001b[0m \u001b[32m1.7/1.7 MB\u001b[0m \u001b[31m67.8 MB/s\u001b[0m eta \u001b[36m0:00:00\u001b[0m\n",
            "\u001b[?25hDownloading tensorboard-2.14.1-py3-none-any.whl (5.5 MB)\n",
            "\u001b[2K   \u001b[90m━━━━━━━━━━━━━━━━━━━━━━━━━━━━━━━━━━━━━━━━\u001b[0m \u001b[32m5.5/5.5 MB\u001b[0m \u001b[31m99.2 MB/s\u001b[0m eta \u001b[36m0:00:00\u001b[0m\n",
            "\u001b[?25hDownloading tensorflow_estimator-2.14.0-py2.py3-none-any.whl (440 kB)\n",
            "\u001b[2K   \u001b[90m━━━━━━━━━━━━━━━━━━━━━━━━━━━━━━━━━━━━━━━━\u001b[0m \u001b[32m440.7/440.7 kB\u001b[0m \u001b[31m31.7 MB/s\u001b[0m eta \u001b[36m0:00:00\u001b[0m\n",
            "\u001b[?25hDownloading google_auth_oauthlib-1.0.0-py2.py3-none-any.whl (18 kB)\n",
            "Installing collected packages: tensorflow-estimator, keras, google-auth-oauthlib, tensorboard, tensorflow\n",
            "  Attempting uninstall: tensorflow-estimator\n",
            "    Found existing installation: tensorflow-estimator 2.15.0\n",
            "    Uninstalling tensorflow-estimator-2.15.0:\n",
            "      Successfully uninstalled tensorflow-estimator-2.15.0\n",
            "  Attempting uninstall: keras\n",
            "    Found existing installation: keras 2.15.0\n",
            "    Uninstalling keras-2.15.0:\n",
            "      Successfully uninstalled keras-2.15.0\n",
            "  Attempting uninstall: google-auth-oauthlib\n",
            "    Found existing installation: google-auth-oauthlib 1.2.1\n",
            "    Uninstalling google-auth-oauthlib-1.2.1:\n",
            "      Successfully uninstalled google-auth-oauthlib-1.2.1\n",
            "  Attempting uninstall: tensorboard\n",
            "    Found existing installation: tensorboard 2.15.2\n",
            "    Uninstalling tensorboard-2.15.2:\n",
            "      Successfully uninstalled tensorboard-2.15.2\n",
            "  Attempting uninstall: tensorflow\n",
            "    Found existing installation: tensorflow 2.15.0\n",
            "    Uninstalling tensorflow-2.15.0:\n",
            "      Successfully uninstalled tensorflow-2.15.0\n",
            "\u001b[31mERROR: pip's dependency resolver does not currently take into account all the packages that are installed. This behaviour is the source of the following dependency conflicts.\n",
            "tensorflow-text 2.15.0 requires tensorflow<2.16,>=2.15.0; platform_machine != \"arm64\" or platform_system != \"Darwin\", but you have tensorflow 2.14.0 which is incompatible.\n",
            "tf-keras 2.15.1 requires tensorflow<2.16,>=2.15, but you have tensorflow 2.14.0 which is incompatible.\u001b[0m\u001b[31m\n",
            "\u001b[0mSuccessfully installed google-auth-oauthlib-1.0.0 keras-2.14.0 tensorboard-2.14.1 tensorflow-2.14.0 tensorflow-estimator-2.14.0\n"
          ]
        },
        {
          "output_type": "display_data",
          "data": {
            "application/vnd.colab-display-data+json": {
              "pip_warning": {
                "packages": [
                  "keras",
                  "tensorboard",
                  "tensorflow"
                ]
              },
              "id": "a43f2eb84e8c4402867ddef38fe2cddb"
            }
          },
          "metadata": {}
        },
        {
          "output_type": "stream",
          "name": "stdout",
          "text": [
            "2.15.0\n"
          ]
        }
      ],
      "source": [
        "#Check tf version\n",
        "import tensorflow as tf\n",
        "#print(tf.__version__)\n",
        "\n",
        "#The following force you to use tensorflow 2.14 but you need to restart. You may comment it if you know you are using 2.14\n",
        "##Make sure you down grade!! otherwise, some part will fail due to compatibility.\n",
        "!pip3 install --upgrade tensorflow==2.14.0\n",
        "print(tf.__version__)"
      ]
    },
    {
      "cell_type": "code",
      "source": [
        "# !pip install scipy==1.7.3"
      ],
      "metadata": {
        "id": "6gl-eVpxx2oG"
      },
      "execution_count": 1,
      "outputs": []
    },
    {
      "cell_type": "markdown",
      "source": [
        "#Get the dataset"
      ],
      "metadata": {
        "id": "iHOSNj1B41Mp"
      }
    },
    {
      "cell_type": "code",
      "source": [
        "# mount google drive on your runtime using and authorization code.\n",
        "# more details here: https://colab.research.google.com/notebooks/io.ipynb\n",
        "from google.colab import drive\n",
        "drive.mount('/content/drive')"
      ],
      "metadata": {
        "id": "FgNawstG47ip",
        "colab": {
          "base_uri": "https://localhost:8080/"
        },
        "outputId": "3627d526-e0c4-4e8f-a885-86c1e6c4325e"
      },
      "execution_count": 2,
      "outputs": [
        {
          "output_type": "stream",
          "name": "stdout",
          "text": [
            "Mounted at /content/drive\n"
          ]
        }
      ]
    },
    {
      "cell_type": "code",
      "source": [
        "#Set directories correctly"
      ],
      "metadata": {
        "id": "tJGFrqJL48eh"
      },
      "execution_count": 3,
      "outputs": []
    },
    {
      "cell_type": "code",
      "source": [
        "import os\n",
        "# Path to the directory containing the project files (CHANGE THIS PATH TO THE DIRECTORY ON YOUR COMPUTER)\n",
        "PROJECT_ROOT_DIR = os.getcwd() + '/'\n",
        "\n",
        "# Path to the directory containing the dataset relative to project file\n",
        "DATA_DIR = 'drive/MyDrive/Datasets/CS5331_Fall24/GTSRB_Data/'\n",
        "\n",
        "#path to the directory you want to use for saving models relative to the project file\n",
        "MODEL_DIR = 'drive/MyDrive/Datasets/CS5331_Fall24/GTSRB_Data/'"
      ],
      "metadata": {
        "id": "T6NoHeZj5C5N"
      },
      "execution_count": 4,
      "outputs": []
    },
    {
      "cell_type": "code",
      "source": [
        "# Funciton for loading the dataset\n",
        "# Code from advml-traffic-sign (https://github.com/inspire-group/advml-traffic-sign)\n",
        "def load_dataset_GTSRB(n_channel=3, train_file_name=None):\n",
        "    \"\"\"\n",
        "    Load GTSRB data as a (datasize) x (channels) x (height) x (width) numpy\n",
        "    matrix. Each pixel is rescaled to the range [0,1].\n",
        "    \"\"\"\n",
        "\n",
        "    def load_pickled_data(file, columns):\n",
        "        \"\"\"\n",
        "        Loads pickled training and test data.\n",
        "\n",
        "        Parameters\n",
        "        ----------\n",
        "        file    : string\n",
        "                          Name of the pickle file.\n",
        "        columns : list of strings\n",
        "                          List of columns in pickled data we're interested in.\n",
        "\n",
        "        Returns\n",
        "        -------\n",
        "        A tuple of datasets for given columns.\n",
        "        \"\"\"\n",
        "\n",
        "        with open(file, mode='rb') as f:\n",
        "            dataset = pickle.load(f)\n",
        "        return tuple(map(lambda c: dataset[c], columns))\n",
        "\n",
        "    def preprocess(x, n_channel):\n",
        "        \"\"\"\n",
        "        Preprocess dataset: turn images into grayscale if specified, normalize\n",
        "        input space to [0,1], reshape array to appropriate shape for NN model\n",
        "        \"\"\"\n",
        "\n",
        "        if n_channel == 3:\n",
        "            # Scale features to be in [0, 1]\n",
        "            x = (x / 255.).astype(np.float32)\n",
        "        else:\n",
        "            # Convert to grayscale, e.g. single Y channel\n",
        "            x = 0.299 * x[:, :, :, 0] + 0.587 * x[:, :, :, 1] + \\\n",
        "                0.114 * x[:, :, :, 2]\n",
        "            # Scale features to be in [0, 1]\n",
        "            x = (x / 255.).astype(np.float32)\n",
        "            x = x[:, :, :, np.newaxis]\n",
        "        return x\n",
        "\n",
        "    # Load pickle dataset\n",
        "    if train_file_name is None:\n",
        "        x_train, y_train = load_pickled_data(\n",
        "            PROJECT_ROOT_DIR + DATA_DIR + 'train.p', ['features', 'labels'])\n",
        "    else:\n",
        "        x_train, y_train = load_pickled_data(\n",
        "            PROJECT_ROOT_DIR + DATA_DIR + train_file_name, ['features', 'labels'])\n",
        "    x_val, y_val = load_pickled_data(\n",
        "        PROJECT_ROOT_DIR + DATA_DIR + 'valid.p', ['features', 'labels'])\n",
        "    x_test, y_test = load_pickled_data(\n",
        "        PROJECT_ROOT_DIR + DATA_DIR + 'test.p', ['features', 'labels'])\n",
        "\n",
        "    # Preprocess loaded data\n",
        "    x_train = preprocess(x_train, n_channel)\n",
        "    x_val = preprocess(x_val, n_channel)\n",
        "    x_test = preprocess(x_test, n_channel)\n",
        "    return x_train, y_train, x_val, y_val, x_test, y_test"
      ],
      "metadata": {
        "id": "CR4Qlshh5DrN"
      },
      "execution_count": 5,
      "outputs": []
    },
    {
      "cell_type": "code",
      "source": [
        "import pickle\n",
        "import numpy as np\n",
        "# Load the images and labels. These images are RGB so we have 3 channels\n",
        "imgs_train, labels_train, imgs_val, labels_val, imgs_test, labels_test = load_dataset_GTSRB(n_channel=3)"
      ],
      "metadata": {
        "id": "BREhI6Eu5F2Q"
      },
      "execution_count": 6,
      "outputs": []
    },
    {
      "cell_type": "markdown",
      "source": [
        "#Load the built model from Assignment 1 (Already on blackboard)"
      ],
      "metadata": {
        "id": "8jMLxK1-5Idu"
      }
    },
    {
      "cell_type": "code",
      "source": [
        "## Load the saved the model\n",
        "from tensorflow.keras.models import load_model\n",
        "\n",
        "\n",
        "\n",
        "#load our already trained model\n",
        "# Your earlier directories should change to match this one\n",
        "#You should be able to load the model once trained. The following line is used for that.\n",
        "model = load_model(MODEL_DIR +'VGG_best.h5')"
      ],
      "metadata": {
        "id": "dWHxthXD5Rcg"
      },
      "execution_count": 7,
      "outputs": []
    },
    {
      "cell_type": "markdown",
      "source": [
        "#Some constants that you might need\n",
        "It is not neccessary that you will use all"
      ],
      "metadata": {
        "id": "j1YlYwHF5dkA"
      }
    },
    {
      "cell_type": "code",
      "source": [
        "# Set constants (GTSRB)\n",
        "NUM_LABELS = 43                             # Number of labels or classes for classification\n",
        "BATCH_SIZE = 128                            # Size of batch\n",
        "HEIGHT = 32                                 # Height of input image\n",
        "WIDTH = 32                                  # Width of input image\n",
        "N_CHANNEL = 3                               # Number of channels\n",
        "OUTPUT_DIM = 43                             # Number of output dimension\n",
        "\n",
        "# Set training hyperparameters\n",
        "NUM_EPOCH = 50                            # Number of epoch to train\n",
        "LR = 0.0002                                 # Learning rate\n",
        "RBW = True #restore best weights\n",
        "PATIENCE = 5# how many epochs between improvements\n",
        "sample_size = 100\n",
        "alpha = 0.001\n",
        "INPUT_SHAPE = (HEIGHT, WIDTH, N_CHANNEL)  # Input shape of model\n",
        "IMG_SHAPE = (HEIGHT, WIDTH, N_CHANNEL)"
      ],
      "metadata": {
        "id": "g1T2kO385c4z"
      },
      "execution_count": 8,
      "outputs": []
    },
    {
      "cell_type": "markdown",
      "source": [
        "# setting up labels"
      ],
      "metadata": {
        "id": "biWtvVpy5zzK"
      }
    },
    {
      "cell_type": "code",
      "source": [
        "from tensorflow.keras.utils import to_categorical\n",
        "\n",
        "#Convert the labels to one-hot encoding (to input to the models)\n",
        "\n",
        "#Use the following sub-test dataset for your certified training\n",
        "imgs_sub_test = imgs_test[0:500,:,:,:].copy()\n",
        "labels_adv = labels_test[0:500].copy()\n",
        "\n",
        "\n",
        "\n",
        "\n",
        "labels_train_cat = to_categorical(labels_train, NUM_LABELS)\n",
        "labels_test_cat = to_categorical(labels_test, NUM_LABELS)\n",
        "labels_val_cat = to_categorical(labels_val, NUM_LABELS)\n",
        "\n",
        "#for testing adversarial inputs\n",
        "labels_adv_cat = to_categorical(labels_adv,NUM_LABELS)\n",
        "\n",
        "print('Labels train shape: {}'.format(labels_train.shape))\n",
        "print('Labels train catagorical shape: {}\\n'.format(labels_train_cat.shape))\n",
        "print('Labels Adver shape: {}'.format(labels_adv.shape))\n",
        "print('Labels Adver catagorical shape: {}'.format(labels_adv_cat.shape))\n",
        "\n",
        "print('Imgs Adver shape: {}'.format(imgs_sub_test.shape))"
      ],
      "metadata": {
        "id": "WJMiQebv5nvV",
        "colab": {
          "base_uri": "https://localhost:8080/"
        },
        "outputId": "9841fd0e-d681-4331-8d60-4afb48df0c98"
      },
      "execution_count": 9,
      "outputs": [
        {
          "output_type": "stream",
          "name": "stdout",
          "text": [
            "Labels train shape: (34799,)\n",
            "Labels train catagorical shape: (34799, 43)\n",
            "\n",
            "Labels Adver shape: (500,)\n",
            "Labels Adver catagorical shape: (500, 43)\n",
            "Imgs Adver shape: (500, 32, 32, 3)\n"
          ]
        }
      ]
    },
    {
      "cell_type": "markdown",
      "source": [
        "#Install ART if needed"
      ],
      "metadata": {
        "id": "xEzJaepK6Bhl"
      }
    },
    {
      "cell_type": "code",
      "source": [
        "#Install ART\n",
        "!pip install adversarial-robustness-toolbox"
      ],
      "metadata": {
        "id": "uHszEWtc5-dg",
        "colab": {
          "base_uri": "https://localhost:8080/"
        },
        "outputId": "2b8c9d9a-c15a-4dad-b9b7-62efbb4e65fc"
      },
      "execution_count": 10,
      "outputs": [
        {
          "output_type": "stream",
          "name": "stdout",
          "text": [
            "Collecting adversarial-robustness-toolbox\n",
            "  Downloading adversarial_robustness_toolbox-1.18.2-py3-none-any.whl.metadata (11 kB)\n",
            "Requirement already satisfied: numpy>=1.18.0 in /usr/local/lib/python3.10/dist-packages (from adversarial-robustness-toolbox) (1.26.4)\n",
            "Requirement already satisfied: scipy>=1.4.1 in /usr/local/lib/python3.10/dist-packages (from adversarial-robustness-toolbox) (1.13.1)\n",
            "Requirement already satisfied: scikit-learn>=0.22.2 in /usr/local/lib/python3.10/dist-packages (from adversarial-robustness-toolbox) (1.5.2)\n",
            "Requirement already satisfied: six in /usr/local/lib/python3.10/dist-packages (from adversarial-robustness-toolbox) (1.16.0)\n",
            "Requirement already satisfied: setuptools in /usr/local/lib/python3.10/dist-packages (from adversarial-robustness-toolbox) (75.1.0)\n",
            "Requirement already satisfied: tqdm in /usr/local/lib/python3.10/dist-packages (from adversarial-robustness-toolbox) (4.66.6)\n",
            "Requirement already satisfied: joblib>=1.2.0 in /usr/local/lib/python3.10/dist-packages (from scikit-learn>=0.22.2->adversarial-robustness-toolbox) (1.4.2)\n",
            "Requirement already satisfied: threadpoolctl>=3.1.0 in /usr/local/lib/python3.10/dist-packages (from scikit-learn>=0.22.2->adversarial-robustness-toolbox) (3.5.0)\n",
            "Downloading adversarial_robustness_toolbox-1.18.2-py3-none-any.whl (1.7 MB)\n",
            "\u001b[2K   \u001b[90m━━━━━━━━━━━━━━━━━━━━━━━━━━━━━━━━━━━━━━━━\u001b[0m \u001b[32m1.7/1.7 MB\u001b[0m \u001b[31m17.7 MB/s\u001b[0m eta \u001b[36m0:00:00\u001b[0m\n",
            "\u001b[?25hInstalling collected packages: adversarial-robustness-toolbox\n",
            "Successfully installed adversarial-robustness-toolbox-1.18.2\n"
          ]
        }
      ]
    },
    {
      "cell_type": "markdown",
      "source": [
        "#Some imports.\n",
        "You might need more"
      ],
      "metadata": {
        "id": "zQoee7X36RA-"
      }
    },
    {
      "cell_type": "code",
      "source": [
        "from art.estimators.classification import TensorFlowV2Classifier\n",
        "from art.estimators.certification.randomized_smoothing import TensorFlowV2RandomizedSmoothing\n",
        "import tensorflow as tf\n",
        "import numpy as np\n",
        "%matplotlib inline\n",
        "import matplotlib.pyplot as plt\n",
        "!pip install statsmodels"
      ],
      "metadata": {
        "id": "g7WT4z2n6VTx",
        "colab": {
          "base_uri": "https://localhost:8080/"
        },
        "outputId": "95c9c113-b9ae-412f-8e75-7cf3314e9d6d"
      },
      "execution_count": 11,
      "outputs": [
        {
          "output_type": "stream",
          "name": "stdout",
          "text": [
            "Collecting statsmodels\n",
            "  Downloading statsmodels-0.14.4-cp310-cp310-manylinux_2_17_x86_64.manylinux2014_x86_64.whl.metadata (9.2 kB)\n",
            "Requirement already satisfied: numpy<3,>=1.22.3 in /usr/local/lib/python3.10/dist-packages (from statsmodels) (1.26.4)\n",
            "Requirement already satisfied: scipy!=1.9.2,>=1.8 in /usr/local/lib/python3.10/dist-packages (from statsmodels) (1.13.1)\n",
            "Requirement already satisfied: pandas!=2.1.0,>=1.4 in /usr/local/lib/python3.10/dist-packages (from statsmodels) (2.2.2)\n",
            "Collecting patsy>=0.5.6 (from statsmodels)\n",
            "  Downloading patsy-0.5.6-py2.py3-none-any.whl.metadata (3.5 kB)\n",
            "Requirement already satisfied: packaging>=21.3 in /usr/local/lib/python3.10/dist-packages (from statsmodels) (24.1)\n",
            "Requirement already satisfied: python-dateutil>=2.8.2 in /usr/local/lib/python3.10/dist-packages (from pandas!=2.1.0,>=1.4->statsmodels) (2.9.0.post0)\n",
            "Requirement already satisfied: pytz>=2020.1 in /usr/local/lib/python3.10/dist-packages (from pandas!=2.1.0,>=1.4->statsmodels) (2024.2)\n",
            "Requirement already satisfied: tzdata>=2022.7 in /usr/local/lib/python3.10/dist-packages (from pandas!=2.1.0,>=1.4->statsmodels) (2024.2)\n",
            "Requirement already satisfied: six in /usr/local/lib/python3.10/dist-packages (from patsy>=0.5.6->statsmodels) (1.16.0)\n",
            "Downloading statsmodels-0.14.4-cp310-cp310-manylinux_2_17_x86_64.manylinux2014_x86_64.whl (10.8 MB)\n",
            "\u001b[2K   \u001b[90m━━━━━━━━━━━━━━━━━━━━━━━━━━━━━━━━━━━━━━━━\u001b[0m \u001b[32m10.8/10.8 MB\u001b[0m \u001b[31m86.1 MB/s\u001b[0m eta \u001b[36m0:00:00\u001b[0m\n",
            "\u001b[?25hDownloading patsy-0.5.6-py2.py3-none-any.whl (233 kB)\n",
            "\u001b[2K   \u001b[90m━━━━━━━━━━━━━━━━━━━━━━━━━━━━━━━━━━━━━━━━\u001b[0m \u001b[32m233.9/233.9 kB\u001b[0m \u001b[31m18.1 MB/s\u001b[0m eta \u001b[36m0:00:00\u001b[0m\n",
            "\u001b[?25hInstalling collected packages: patsy, statsmodels\n",
            "Successfully installed patsy-0.5.6 statsmodels-0.14.4\n"
          ]
        }
      ]
    },
    {
      "cell_type": "markdown",
      "source": [
        "###Part 1"
      ],
      "metadata": {
        "id": "_lz6J1f46cL5"
      }
    },
    {
      "cell_type": "markdown",
      "source": [
        "##Task 1\n",
        "Our first task with implement randomized smoothing for the VGG model from last time. Your task is to download the model and use Adversarial Robustness Toolbox (ART) to implement randomized smoothing to certify the model. [This notebook](https://github.com/Trusted-AI/adversarial-robustness-toolbox/blob/main/notebooks/output_randomized_smoothing_mnist.ipynb) should be your guide to implementing the task. You will use σ^2=[ 0.25,0.5,1] as Gaussian noise parameter. Once needed, use 100 as the number of samples to estimate the certifiable radius. You will find the standard and certified accuracy for different noises. You will also plot the L2 radius versus certified accuracy.\n",
        "\n",
        "#Notes:\n",
        "Training will take time to generate the results. Try it first with only 2 training rounds and then increase to 25. Certification for all the testing will take forever. Thus, whenever you need a testing set, use a subset of the testing samples, not all. We already provided that subset for you in a variable that you must look for.\n"
      ],
      "metadata": {
        "id": "BYsm3zP66gPx"
      }
    },
    {
      "cell_type": "code",
      "source": [
        "#get an ART Classifier\n",
        "art_classifier = TensorFlowV2Classifier(\n",
        "    model=model,  # replace `loaded_vgg_model` with your VGG model variable\n",
        "    nb_classes=NUM_LABELS,\n",
        "    input_shape=INPUT_SHAPE,\n",
        "    loss_object=tf.keras.losses.CategoricalCrossentropy(from_logits=False),\n",
        ")\n",
        "\n",
        "\n",
        "#Fit it as it is to be used for your VGG16 performance\n",
        "# Fit the underlying model for VGG16 performance evaluation\n",
        "art_classifier._model.fit(\n",
        "    imgs_train, labels_train_cat,\n",
        "    validation_data=(imgs_val, labels_val_cat),\n",
        "    epochs=25,\n",
        "    batch_size=BATCH_SIZE,\n",
        "    verbose=1\n",
        ")"
      ],
      "metadata": {
        "id": "R3nm45XC6fus",
        "colab": {
          "base_uri": "https://localhost:8080/"
        },
        "outputId": "f4f54cfc-b644-4aa4-b0f0-d442d29d7c13"
      },
      "execution_count": null,
      "outputs": [
        {
          "output_type": "stream",
          "name": "stdout",
          "text": [
            "Epoch 1/25\n",
            "272/272 [==============================] - 146s 538ms/step - loss: 0.0033 - accuracy: 0.9992 - val_loss: 0.1020 - val_accuracy: 0.9762\n",
            "Epoch 2/25\n",
            "272/272 [==============================] - 146s 538ms/step - loss: 0.0010 - accuracy: 0.9998 - val_loss: 0.0869 - val_accuracy: 0.9782\n",
            "Epoch 3/25\n",
            "272/272 [==============================] - 145s 535ms/step - loss: 0.0027 - accuracy: 0.9994 - val_loss: 0.0912 - val_accuracy: 0.9778\n",
            "Epoch 4/25\n",
            "272/272 [==============================] - 145s 533ms/step - loss: 0.0050 - accuracy: 0.9988 - val_loss: 0.0838 - val_accuracy: 0.9785\n",
            "Epoch 5/25\n",
            "272/272 [==============================] - 145s 534ms/step - loss: 0.0055 - accuracy: 0.9988 - val_loss: 0.0783 - val_accuracy: 0.9794\n",
            "Epoch 6/25\n",
            "272/272 [==============================] - 145s 534ms/step - loss: 7.6276e-04 - accuracy: 0.9998 - val_loss: 0.1039 - val_accuracy: 0.9741\n",
            "Epoch 7/25\n",
            "272/272 [==============================] - 145s 533ms/step - loss: 0.0043 - accuracy: 0.9987 - val_loss: 0.1002 - val_accuracy: 0.9766\n",
            "Epoch 8/25\n",
            "272/272 [==============================] - 145s 533ms/step - loss: 0.0076 - accuracy: 0.9979 - val_loss: 0.0843 - val_accuracy: 0.9778\n",
            "Epoch 9/25\n",
            "272/272 [==============================] - 145s 534ms/step - loss: 0.0011 - accuracy: 0.9998 - val_loss: 0.1280 - val_accuracy: 0.9728\n",
            "Epoch 10/25\n",
            "272/272 [==============================] - 145s 533ms/step - loss: 0.0117 - accuracy: 0.9976 - val_loss: 0.1740 - val_accuracy: 0.9617\n",
            "Epoch 11/25\n",
            "272/272 [==============================] - 145s 531ms/step - loss: 0.0121 - accuracy: 0.9973 - val_loss: 0.0943 - val_accuracy: 0.9785\n",
            "Epoch 12/25\n",
            "272/272 [==============================] - 144s 531ms/step - loss: 0.0077 - accuracy: 0.9981 - val_loss: 0.1155 - val_accuracy: 0.9760\n",
            "Epoch 13/25\n",
            "272/272 [==============================] - 145s 532ms/step - loss: 0.0071 - accuracy: 0.9984 - val_loss: 0.0988 - val_accuracy: 0.9771\n",
            "Epoch 14/25\n",
            "272/272 [==============================] - 145s 533ms/step - loss: 0.0084 - accuracy: 0.9980 - val_loss: 0.2198 - val_accuracy: 0.9653\n",
            "Epoch 15/25\n",
            "272/272 [==============================] - 145s 534ms/step - loss: 0.0178 - accuracy: 0.9962 - val_loss: 0.1176 - val_accuracy: 0.9719\n",
            "Epoch 16/25\n",
            "272/272 [==============================] - 145s 532ms/step - loss: 0.0035 - accuracy: 0.9992 - val_loss: 0.0993 - val_accuracy: 0.9805\n",
            "Epoch 17/25\n",
            "272/272 [==============================] - 144s 528ms/step - loss: 0.0012 - accuracy: 0.9996 - val_loss: 0.0871 - val_accuracy: 0.9810\n",
            "Epoch 18/25\n",
            "272/272 [==============================] - 144s 529ms/step - loss: 0.0036 - accuracy: 0.9992 - val_loss: 0.0857 - val_accuracy: 0.9821\n",
            "Epoch 19/25\n",
            "272/272 [==============================] - 144s 530ms/step - loss: 4.7419e-04 - accuracy: 0.9999 - val_loss: 0.0984 - val_accuracy: 0.9814\n",
            "Epoch 20/25\n",
            "272/272 [==============================] - 143s 527ms/step - loss: 0.0204 - accuracy: 0.9961 - val_loss: 0.2381 - val_accuracy: 0.9546\n",
            "Epoch 21/25\n",
            "272/272 [==============================] - 144s 530ms/step - loss: 0.0063 - accuracy: 0.9990 - val_loss: 0.1162 - val_accuracy: 0.9762\n",
            "Epoch 22/25\n",
            "272/272 [==============================] - 144s 530ms/step - loss: 0.0054 - accuracy: 0.9991 - val_loss: 0.1211 - val_accuracy: 0.9762\n",
            "Epoch 23/25\n",
            "272/272 [==============================] - 144s 528ms/step - loss: 0.0040 - accuracy: 0.9993 - val_loss: 0.1213 - val_accuracy: 0.9741\n",
            "Epoch 24/25\n",
            "272/272 [==============================] - 143s 527ms/step - loss: 0.0112 - accuracy: 0.9978 - val_loss: 0.0834 - val_accuracy: 0.9791\n",
            "Epoch 25/25\n",
            "272/272 [==============================] - 144s 531ms/step - loss: 5.5588e-05 - accuracy: 1.0000 - val_loss: 0.0780 - val_accuracy: 0.9823\n"
          ]
        },
        {
          "output_type": "execute_result",
          "data": {
            "text/plain": [
              "<keras.src.callbacks.History at 0x7a6e44101060>"
            ]
          },
          "metadata": {},
          "execution_count": 36
        }
      ]
    },
    {
      "cell_type": "code",
      "source": [
        "# Define sigma values for Gaussian noise\n",
        "sigma_values = [0.25, 0.5, 1.0]\n",
        "\n",
        "# Build the randomized smoothing models\n",
        "smoothing_models = {}\n",
        "for sigma in sigma_values:\n",
        "    smoother = TensorFlowV2RandomizedSmoothing(\n",
        "      model=art_classifier.model,\n",
        "      nb_classes=NUM_LABELS,\n",
        "      input_shape=INPUT_SHAPE,\n",
        "      sample_size=100,\n",
        "      scale=sigma,  # Add scale parameter for Gaussian noise\n",
        "      loss_object=tf.keras.losses.CategoricalCrossentropy(from_logits=False)\n",
        "    )\n",
        "    smoothing_models[sigma] = smoother\n",
        "    print(f\"Randomized smoothing model built for sigma = {sigma}\")"
      ],
      "metadata": {
        "id": "n3YLxL8fQ4-m",
        "colab": {
          "base_uri": "https://localhost:8080/"
        },
        "outputId": "a274956c-4695-4b25-daae-40e02030234b"
      },
      "execution_count": null,
      "outputs": [
        {
          "output_type": "stream",
          "name": "stdout",
          "text": [
            "Randomized smoothing model built for sigma = 0.25\n",
            "Randomized smoothing model built for sigma = 0.5\n",
            "Randomized smoothing model built for sigma = 1.0\n"
          ]
        }
      ]
    },
    {
      "cell_type": "code",
      "source": [
        "def calculate_certification_accuracy(predictions, radii, labels, radius_threshold):\n",
        "    # Ensure labels are in class indices format\n",
        "    true_labels = np.argmax(labels, axis=1) if labels.ndim > 1 else labels\n",
        "\n",
        "    # Ensure predictions are class indices\n",
        "    predicted_labels = np.argmax(predictions, axis=1) if predictions.ndim > 1 else predictions\n",
        "\n",
        "    # Check for matching lengths between arrays\n",
        "    if len(predicted_labels) != len(radii) or len(predicted_labels) != len(true_labels):\n",
        "        raise ValueError(\"Mismatched lengths in predicted_labels, radii, and true_labels arrays.\")\n",
        "\n",
        "    # Calculate correct predictions within the given radius threshold\n",
        "    correct_and_certified = (predicted_labels == true_labels) & (radii >= radius_threshold)\n",
        "\n",
        "    # Calculate certification accuracy\n",
        "    certification_accuracy = np.mean(correct_and_certified)\n",
        "\n",
        "    return certification_accuracy"
      ],
      "metadata": {
        "id": "9srh_lUBu3jD"
      },
      "execution_count": null,
      "outputs": []
    },
    {
      "cell_type": "code",
      "source": [
        "# Define the radius thresholds and sigma values\n",
        "radius_thresholds = np.linspace(0, 3, num=30)  # Adjust as necessary\n",
        "sigma_values = [0.25, 0.5, 1.0]\n",
        "\n",
        "# Store certified accuracies for each sigma\n",
        "certified_accuracies = {sigma: [] for sigma in sigma_values}\n",
        "\n",
        "# Ensure labels are in class indices format\n",
        "true_labels_full = np.argmax(labels_adv_cat, axis=1) if labels_adv_cat.ndim > 1 else labels_adv_cat\n",
        "\n",
        "# Loop over each sigma value to test the smoother's performance\n",
        "for sigma in sigma_values:\n",
        "    print(f\"\\nTesting performance with σ = {sigma}\")\n",
        "\n",
        "    # Initialize the randomized smoothing model with the current sigma\n",
        "    smoother = TensorFlowV2RandomizedSmoothing(\n",
        "        model=art_classifier.model,  # Use model from the ART classifier\n",
        "        nb_classes=NUM_LABELS,\n",
        "        input_shape=INPUT_SHAPE,\n",
        "        scale=np.sqrt(sigma),  # Ensure scale uses the square root of variance\n",
        "        sample_size=100\n",
        "    )\n",
        "\n",
        "    # Certify predictions and radii on the subset of test data\n",
        "    predictions, radii = smoother.certify(x=imgs_sub_test, batch_size=BATCH_SIZE, n=100)\n",
        "\n",
        "    # Convert predictions to class indices if necessary\n",
        "    predicted_labels = predictions if predictions.ndim == 1 else np.argmax(predictions, axis=1)\n",
        "\n",
        "    # Loop over each radius threshold to calculate certification accuracy\n",
        "    for radius in radius_thresholds:\n",
        "        accuracy = calculate_certification_accuracy(predicted_labels, radii, true_labels_full[:len(predicted_labels)], radius)\n",
        "        certified_accuracies[sigma].append(accuracy)\n",
        "\n",
        "    print(f\"Certified accuracies for σ={sigma}: {certified_accuracies[sigma]}\")\n"
      ],
      "metadata": {
        "colab": {
          "base_uri": "https://localhost:8080/"
        },
        "id": "kBOvsaNERlOz",
        "outputId": "115d3a1b-a5da-4ef4-adf5-191a713aed69"
      },
      "execution_count": null,
      "outputs": [
        {
          "output_type": "stream",
          "name": "stdout",
          "text": [
            "\n",
            "Testing performance with σ = 0.25\n",
            "Certified accuracies for σ=0.25: [0.108, 0.078, 0.058, 0.046, 0.034, 0.018, 0.006, 0.004, 0.0, 0.0, 0.0, 0.0, 0.0, 0.0, 0.0, 0.0, 0.0, 0.0, 0.0, 0.0, 0.0, 0.0, 0.0, 0.0, 0.0, 0.0, 0.0, 0.0, 0.0, 0.0]\n",
            "\n",
            "Testing performance with σ = 0.5\n",
            "Certified accuracies for σ=0.5: [0.028, 0.024, 0.016, 0.014, 0.008, 0.006, 0.004, 0.002, 0.002, 0.002, 0.0, 0.0, 0.0, 0.0, 0.0, 0.0, 0.0, 0.0, 0.0, 0.0, 0.0, 0.0, 0.0, 0.0, 0.0, 0.0, 0.0, 0.0, 0.0, 0.0]\n",
            "\n",
            "Testing performance with σ = 1.0\n",
            "Certified accuracies for σ=1.0: [0.044, 0.036, 0.016, 0.012, 0.01, 0.004, 0.002, 0.002, 0.002, 0.002, 0.0, 0.0, 0.0, 0.0, 0.0, 0.0, 0.0, 0.0, 0.0, 0.0, 0.0, 0.0, 0.0, 0.0, 0.0, 0.0, 0.0, 0.0, 0.0, 0.0]\n"
          ]
        }
      ]
    },
    {
      "cell_type": "code",
      "source": [
        "# Define the radius threshold for certification\n",
        "radius_threshold = 0.1\n",
        "\n",
        "predictions, radii = smoother.certify(x=imgs_sub_test, batch_size=BATCH_SIZE, n=100)\n",
        "\n",
        "cert_accuracy = calculate_certification_accuracy(predictions, radii, labels_adv_cat, radius_threshold)\n",
        "\n",
        "print(f\"Certification Accuracy with L2 radius >= {radius_threshold}: {cert_accuracy:.4f}\")"
      ],
      "metadata": {
        "id": "_gfaiKZU8I1f",
        "colab": {
          "base_uri": "https://localhost:8080/"
        },
        "outputId": "1fb248e7-5cae-462f-fb85-a74d74a72620"
      },
      "execution_count": null,
      "outputs": [
        {
          "output_type": "stream",
          "name": "stdout",
          "text": [
            "Certification Accuracy with L2 radius >= 0.1: 0.0380\n"
          ]
        }
      ]
    },
    {
      "cell_type": "code",
      "source": [
        "import pandas as pd\n",
        "import numpy as np\n",
        "from art.estimators.certification.randomized_smoothing import TensorFlowV2RandomizedSmoothing\n",
        "\n",
        "# Define the Gaussian noise levels\n",
        "sigma_values = [0.25, 0.5, 1.0]\n",
        "radius_threshold = 0.1  # Example threshold for certified accuracy\n",
        "results = []\n",
        "\n",
        "# Ensure labels are class indices\n",
        "if labels_adv_cat.ndim > 1:\n",
        "    true_labels_full = np.argmax(labels_adv_cat, axis=1)\n",
        "else:\n",
        "    true_labels_full = labels_adv_cat\n",
        "\n",
        "# Loop over each sigma value\n",
        "for sigma in sigma_values:\n",
        "    print(f\"\\nTesting performance with σ^2 = {sigma}\")\n",
        "\n",
        "    # Initialize the randomized smoothing model with the current sigma\n",
        "    smoother = TensorFlowV2RandomizedSmoothing(\n",
        "        model=art_classifier.model,\n",
        "        nb_classes=NUM_LABELS,\n",
        "        input_shape=INPUT_SHAPE,\n",
        "        sample_size=100,\n",
        "        scale=np.sqrt(sigma)  # Use `scale` instead of `noise_scale`\n",
        "    )\n",
        "\n",
        "    # Compute predictions and radii for a subset of test data\n",
        "    predictions, radii = smoother.certify(x=imgs_sub_test, batch_size=BATCH_SIZE, n=100)\n",
        "\n",
        "    # Extract true labels for the subset\n",
        "    true_labels = true_labels_full[:len(predictions)]\n",
        "\n",
        "    # Compute standard accuracy\n",
        "    standard_accuracy = np.mean(predictions == true_labels)\n",
        "\n",
        "    # Compute coverage rate\n",
        "    coverage_rate = np.mean(radii >= radius_threshold)\n",
        "\n",
        "    # Compute certified accuracy\n",
        "    certified_accuracy = calculate_certification_accuracy(predictions, radii, true_labels, radius_threshold)\n",
        "\n",
        "    # Append results to the table\n",
        "    results.append({\n",
        "        \"Model\": f\"Smoothed σ^2={sigma}\",\n",
        "        \"L2 Radius\": radius_threshold,\n",
        "        \"Standard accuracy\": standard_accuracy,\n",
        "        \"Standard coverage rate\": coverage_rate,\n",
        "        \"Certified accuracy\": certified_accuracy\n",
        "    })\n",
        "\n",
        "# Convert results to DataFrame for easier viewing\n",
        "table_1 = pd.DataFrame(results)"
      ],
      "metadata": {
        "colab": {
          "base_uri": "https://localhost:8080/"
        },
        "id": "BPxCQvHit1MT",
        "outputId": "30b10dbd-5222-460c-f180-1f8ae1c928e4"
      },
      "execution_count": null,
      "outputs": [
        {
          "output_type": "stream",
          "name": "stdout",
          "text": [
            "\n",
            "Testing performance with σ^2 = 0.25\n",
            "\n",
            "Testing performance with σ^2 = 0.5\n",
            "\n",
            "Testing performance with σ^2 = 1.0\n"
          ]
        }
      ]
    },
    {
      "cell_type": "code",
      "source": [
        "# Evaluate the original VGG16 model's accuracy on the subset using the Keras model directly\n",
        "vgg16_accuracy = art_classifier.model.evaluate(imgs_sub_test, labels_adv_cat[:len(predictions)], batch_size=BATCH_SIZE, verbose=0)\n",
        "original_standard_accuracy = vgg16_accuracy[1]  # Extract accuracy metric\n",
        "\n",
        "# Add the original VGG16 model’s accuracy for comparison (without smoothing)\n",
        "table_1 = pd.concat([pd.DataFrame([{\n",
        "    \"Model\": \"VGG16 original\",\n",
        "    \"L2 Radius\": \"-\",\n",
        "    \"Standard accuracy\": original_standard_accuracy,\n",
        "    \"Standard coverage rate\": \"-\",\n",
        "    \"Certified accuracy\": \"-\"\n",
        "}]), table_1], ignore_index=True)\n",
        "\n",
        "# Display the completed Table 1\n",
        "print(\"\\nTable 1: Standard and Certified Accuracies for different models\")\n",
        "print(table_1)"
      ],
      "metadata": {
        "colab": {
          "base_uri": "https://localhost:8080/"
        },
        "id": "2EecRwfpE8vw",
        "outputId": "d18020ef-a6db-49e0-cc97-6624a27d2478"
      },
      "execution_count": null,
      "outputs": [
        {
          "output_type": "stream",
          "name": "stdout",
          "text": [
            "\n",
            "Table 1: Standard and Certified Accuracies for different models\n",
            "               Model L2 Radius  Standard accuracy Standard coverage rate  \\\n",
            "0     VGG16 original         -              0.968                      -   \n",
            "1  Smoothed σ^2=0.25       0.1              0.106                  0.102   \n",
            "2   Smoothed σ^2=0.5       0.1              0.030                   0.04   \n",
            "3   Smoothed σ^2=1.0       0.1              0.040                  0.286   \n",
            "\n",
            "  Certified accuracy  \n",
            "0                  -  \n",
            "1              0.076  \n",
            "2              0.022  \n",
            "3              0.034  \n"
          ]
        }
      ]
    },
    {
      "cell_type": "code",
      "source": [
        "import matplotlib.pyplot as plt\n",
        "import numpy as np\n",
        "\n",
        "# Define the range of L2 radii to evaluate\n",
        "radius_values = np.linspace(0, 3, num=30)\n",
        "sigma_values = [0.25, 0.5, 1.0]\n",
        "certified_accuracies = {}\n",
        "\n",
        "# Loop over each sigma to calculate certified accuracies for each radius\n",
        "for sigma in sigma_values:\n",
        "    print(f\"\\nEvaluating certified accuracy for σ^2 = {sigma}\")\n",
        "\n",
        "    # Initialize randomized smoothing model for the current sigma\n",
        "    smoother = TensorFlowV2RandomizedSmoothing(\n",
        "        model=art_classifier.model,\n",
        "        nb_classes=NUM_LABELS,\n",
        "        input_shape=INPUT_SHAPE,\n",
        "        sample_size=100,\n",
        "        scale=np.sqrt(sigma)\n",
        "    )\n",
        "\n",
        "    # Compute predictions and radii for the subset of test data\n",
        "    predictions, radii = smoother.certify(x=imgs_sub_test, batch_size=BATCH_SIZE, n=100)\n",
        "    true_labels = np.argmax(labels_adv_cat[:len(predictions)], axis=1)\n",
        "\n",
        "    # Calculate certified accuracy for each radius value\n",
        "    certified_accuracies[sigma] = [\n",
        "        calculate_certification_accuracy(predictions, radii, true_labels, radius) for radius in radius_values\n",
        "    ]"
      ],
      "metadata": {
        "colab": {
          "base_uri": "https://localhost:8080/"
        },
        "id": "9R8itn9YPPpo",
        "outputId": "f0371b61-e6a2-4119-9e3f-3f62c0bd58f0"
      },
      "execution_count": null,
      "outputs": [
        {
          "output_type": "stream",
          "name": "stdout",
          "text": [
            "\n",
            "Evaluating certified accuracy for σ^2 = 0.25\n",
            "\n",
            "Evaluating certified accuracy for σ^2 = 0.5\n",
            "\n",
            "Evaluating certified accuracy for σ^2 = 1.0\n"
          ]
        }
      ]
    },
    {
      "cell_type": "code",
      "source": [
        "import matplotlib.pyplot as plt\n",
        "import numpy as np\n",
        "sigma_values = [0.25, 0.5]\n",
        "# Plotting L2 radius vs certified accuracy for each model\n",
        "plt.figure(figsize=(10, 6))\n",
        "\n",
        "# Loop through each sigma value and plot certified accuracy vs L2 radius\n",
        "for sigma in sigma_values:\n",
        "    plt.plot(radius_values, certified_accuracies[sigma], label=f'Smoothed σ^2={sigma}', marker='o')\n",
        "\n",
        "# Calculate the standard accuracy for the original model (no smoothing)\n",
        "if predictions.ndim > 1:\n",
        "    original_accuracy = np.mean(np.argmax(predictions, axis=-1) == true_labels)\n",
        "else:\n",
        "    original_accuracy = np.mean(predictions == true_labels)\n",
        "\n",
        "# Plot the constant original accuracy line for comparison\n",
        "plt.plot(radius_values, [original_accuracy] * len(radius_values), label='Original', linestyle='--')\n",
        "\n",
        "# Add labels, title, and legend\n",
        "plt.xlabel(\"L2 Radius\")\n",
        "plt.ylabel(\"Certified Accuracy\")\n",
        "plt.title(\"L2 Radius vs Certified Accuracy for Original and Smoothed Models\")\n",
        "plt.legend()\n",
        "plt.grid(True)\n",
        "plt.show()"
      ],
      "metadata": {
        "colab": {
          "base_uri": "https://localhost:8080/",
          "height": 564
        },
        "id": "CS7pvv-WG0Lv",
        "outputId": "2c6edfd2-9a85-4c30-d005-954028e0144f"
      },
      "execution_count": null,
      "outputs": [
        {
          "output_type": "display_data",
          "data": {
            "text/plain": [
              "<Figure size 1000x600 with 1 Axes>"
            ],
            "image/png": "[encoded data removed]"
          },
          "metadata": {}
        }
      ]
    },
    {
      "cell_type": "markdown",
      "source": [
        "##Part 2\n"
      ],
      "metadata": {
        "id": "328nlEzp8VA8"
      }
    },
    {
      "cell_type": "markdown",
      "source": [
        "##Task 2\n",
        "\n",
        "Now, let's do some privacy attacks. We will focus on Membership inference attacks. This task will implement label-only attacks, while the next will implement shadow modeling. As discussed in class, the label-only attack is developed based on the fact that it costs an attacker so much to generate a successful adversarial sample for a member sample. In contrast, the cost will be much less for a non-member sample. Thus, it uses HopSkipJump to generate a successful adversarial sample and then measure the perturbation using the L2 norm. If the perturbation is above a threshold, it will be classified as a member; if not, it will be classified as a non-member. Hence, we will follow the following steps to perform the attack (Your reference code is [this notebook](https://github.com/Trusted-AI/adversarial-robustness-toolbox/blob/main/notebooks/label_only_membership_inference.ipynb)):\n",
        "\n",
        "1-\tGenerate a dataset (already given): The training and testing datasets are merged into one, with the training classified as members and the testing as non-members. We picked 1500 samples from this dataset to build our attack model.\n",
        "\n",
        "\n",
        "2-\tCalculate the threshold (to be implemented by you): Your task here is to use existing implementations in ART to calculate/calibrate the threshold. All parameters are given to you in the code (in comments).\n",
        "\n",
        "3-\tInfer the data: Now, use the provided 1500 samples to predict whether they are members. Then, compare your performance to the ground truth and present the results.\n",
        "\n",
        "\n",
        "One parameter you will need to set is the maximum number of queries (used in step 2). Set this parameter to 5 and 10. All that is needed is to answer the questions below.\n",
        "\n",
        "\n",
        "##Note on resources:\n",
        "It takes time to generate the adversarial examples. A good GPU computer will take you around 1-3 hours per round. Thus, plan your time accordingly.\n"
      ],
      "metadata": {
        "id": "Ezm2XmYc8YB7"
      }
    },
    {
      "cell_type": "markdown",
      "source": [
        "#Generate a dataset"
      ],
      "metadata": {
        "id": "_nlFS48g87m6"
      }
    },
    {
      "cell_type": "code",
      "source": [
        "##Some variables to set  number of samples used to calibrate distance threshold\n",
        "x = np.concatenate([imgs_train, imgs_test]) #Merge train and test dataset\n",
        "y = np.concatenate([labels_train_cat, labels_test_cat]) #Merge train and test dataset\n",
        "training_sample = np.array([1] * len(imgs_train) + [0] * len(imgs_test)) #Class label for the attack model training. What does it say?\n",
        "\n",
        "from numpy.random import choice\n",
        "\n",
        "##Random samples to be used for training our attack model\n",
        "# evaluation data\n",
        "n = 1500\n",
        "eval_data_idx = choice(len(x), n) #choose 1500 of the samples\n",
        "x_eval, y_eval = x[eval_data_idx], y[eval_data_idx] #creating your training dataset for the attack model\n",
        "eval_label = training_sample[eval_data_idx] #creating your training label for the attack model"
      ],
      "metadata": {
        "id": "U9dwyFm-8q8A"
      },
      "execution_count": 13,
      "outputs": []
    },
    {
      "cell_type": "markdown",
      "source": [
        "#Calculate the threshold"
      ],
      "metadata": {
        "id": "dV5_WvOK959m"
      }
    },
    {
      "cell_type": "code",
      "source": [
        "#Start your attack\n",
        "import tensorflow as tf\n",
        "import numpy as np\n",
        "from art.attacks.evasion import HopSkipJump\n",
        "from art.estimators.classification import TensorFlowV2Classifier\n",
        "\n",
        "# Define the ART classifier as a black-box using the pre-trained model\n",
        "classifier_black_box = TensorFlowV2Classifier(\n",
        "    model=model,\n",
        "    nb_classes=NUM_LABELS,\n",
        "    input_shape=INPUT_SHAPE\n",
        ")\n",
        "\n",
        "# Initialize the HopSkipJump attack for a black-box setting\n",
        "hsj_attack = HopSkipJump(\n",
        "    classifier=classifier_black_box,\n",
        "    targeted=False,    # Label-only attack is untargeted\n",
        "    max_iter=2,\n",
        "    max_eval=100,      # Number of evaluations for initial setup\n",
        "    init_eval=10       # Initial evaluations for generating adversarial samples\n",
        ")\n",
        "\n",
        "print(\"Label-only membership inference attack started in black-box mode.\")"
      ],
      "metadata": {
        "id": "0zxtcONL98B2",
        "colab": {
          "base_uri": "https://localhost:8080/"
        },
        "outputId": "84b9c45c-5066-4665-f6c5-04e40ece89e6"
      },
      "execution_count": null,
      "outputs": [
        {
          "output_type": "stream",
          "name": "stdout",
          "text": [
            "Label-only membership inference attack started in black-box mode.\n"
          ]
        }
      ]
    },
    {
      "cell_type": "code",
      "source": [
        "# Make sure that you are a black-box\n",
        "assert classifier_black_box.loss_object is None, \"Classifier should not have access to gradients (black-box setting).\"\n",
        "\n",
        "print(\"Attack confirmed to be in black-box mode, with no access to gradients or internal parameters.\")"
      ],
      "metadata": {
        "colab": {
          "base_uri": "https://localhost:8080/"
        },
        "id": "7HaPvkpLtUuO",
        "outputId": "72d28b6d-6302-413a-f04f-38023afd55ec"
      },
      "execution_count": null,
      "outputs": [
        {
          "output_type": "stream",
          "name": "stdout",
          "text": [
            "Attack confirmed to be in black-box mode, with no access to gradients or internal parameters.\n"
          ]
        }
      ]
    },
    {
      "cell_type": "code",
      "source": [
        "#Initiate your attack variable\n",
        "#Calibrate\n",
        "## Use Top-t percentile of 20, Number of sample is 200,  Maximum number of queries is 2, and batch_size is 256\n",
        "from numpy.linalg import norm\n",
        "from numpy.random import choice\n",
        "\n",
        "# Select 200 samples from x_eval for calibration as specified\n",
        "x_calibration = x_eval[:200]\n",
        "\n",
        "# Generate adversarial samples using limited queries (max_queries=2)\n",
        "hsj_attack.max_iter = 2  # Limit number of iterations for calibration\n",
        "\n",
        "# Generate adversarial samples\n",
        "x_adv_calibration = hsj_attack.generate(x=x_calibration, batch_size=256)\n",
        "\n",
        "# Calculate L2 distances between original and adversarial samples\n",
        "l2_distances = norm((x_adv_calibration - x_calibration).reshape(200, -1), axis=1)\n",
        "\n",
        "# Set the threshold using the top-20th percentile\n",
        "calibrated_threshold = np.percentile(l2_distances, 80)  # Top-t (80th percentile) threshold\n",
        "\n",
        "print(f\"Calibration complete. Threshold set at: {calibrated_threshold}\")"
      ],
      "metadata": {
        "colab": {
          "base_uri": "https://localhost:8080/",
          "height": 66,
          "referenced_widgets": [
            "f5270c2b7f3f4103b9e52116c68f6c4a",
            "b68c20ced5cc422e92fd8b5bb238b61d",
            "0f0403b421a74e83aa7ea20ed283b8a3",
            "7604c4808e694dfd8113ed5e3659efae",
            "399187cf269444fb8ad4be2884e21a05",
            "7cbabe4e9f254e2eb2efe68a4af85739",
            "3e2f8c791fbb4732a7d4bf347ee09e5b",
            "ece3574d069f4ab68816c21cc18629f6",
            "66f7c85099db463caeb3ed5682683c9f",
            "787cd49fe51e4fa7986b0fe84736a038",
            "e1967c6644c84e658e9723bccedf505c"
          ]
        },
        "id": "O3CWpyH2vMNo",
        "outputId": "b2c5b7a2-b227-4e9a-a838-5f80e3da9884"
      },
      "execution_count": null,
      "outputs": [
        {
          "output_type": "display_data",
          "data": {
            "text/plain": [
              "HopSkipJump:   0%|          | 0/200 [00:00<?, ?it/s]"
            ],
            "application/vnd.jupyter.widget-view+json": {
              "version_major": 2,
              "version_minor": 0,
              "model_id": "f5270c2b7f3f4103b9e52116c68f6c4a"
            }
          },
          "metadata": {}
        },
        {
          "output_type": "stream",
          "name": "stdout",
          "text": [
            "Calibration complete. Threshold set at: 15.881886672973634\n"
          ]
        }
      ]
    },
    {
      "cell_type": "markdown",
      "source": [
        "# Infer the data"
      ],
      "metadata": {
        "id": "lcOeXxV4-RGy"
      }
    },
    {
      "cell_type": "code",
      "source": [
        "##Infer\n",
        "# Generate adversarial examples for all evaluation samples with max_queries=5 or 10 as needed\n",
        "def infer_membership(max_queries, threshold):\n",
        "    # Set max_iter to limit the number of queries per sample\n",
        "    hsj_attack.max_iter = max_queries\n",
        "\n",
        "    # Generate adversarial samples\n",
        "    x_adv = hsj_attack.generate(x=x_eval, batch_size=256)\n",
        "\n",
        "    # Calculate L2 distances between original and adversarial samples\n",
        "    l2_distances = norm((x_adv - x_eval).reshape(len(x_eval), -1), axis=1)\n",
        "\n",
        "    # Classify as member (1) if distance > threshold, else non-member (0)\n",
        "    inferred_labels = (l2_distances > threshold).astype(int)\n",
        "    return inferred_labels, l2_distances\n",
        "\n",
        "# Perform inference for max_queries=5 and max_queries=10\n",
        "inferred_labels_5, l2_distances_5 = infer_membership(5, calibrated_threshold)\n",
        "inferred_labels_10, l2_distances_10 = infer_membership(10, calibrated_threshold)"
      ],
      "metadata": {
        "id": "y7PM9JRY-UGe",
        "colab": {
          "base_uri": "https://localhost:8080/",
          "height": 81,
          "referenced_widgets": [
            "053e1cad70fe48dba3fb3ad2c05c10b5",
            "19037cbba26049a0bc9e2eea345c1b32",
            "8105ca4910284fe7a342cb3d38010714",
            "1d17427d69d448c2a8a2a01a320c50ed",
            "1320243dd80848368ddfb071dac1140c",
            "e7bb167c852c4425842f661b8d3fde95",
            "2551556e60ce4f05aaffadf32cae5ffd",
            "eb5c5cc7713d4d1495edb74ec4293f82",
            "80164ce1661b4808b297331662c69b5c",
            "43e4121a553a476fa6acd8c8094c72c8",
            "c0a984ef885a4a918cd6126c8013a70c",
            "aa3e021ff55940758ac1c0dccdb840ac",
            "5b075cc19af849b58c3b313f983801fc",
            "6fa719c88c9f41bda7f46e3eb1d217ca",
            "86ec59c6d9d24bfda53db30eef595d5c",
            "5441a4d338484b21af97d05027e5ae1d",
            "6dd089a605dd4033b3c92b9a95a251ca",
            "8b724df7706c46e58b37cb66fcfc6bab",
            "792d51fe818a4f89a1eee33917caf2d4",
            "b31109a5c2b0485e958e25dff5f03114",
            "240e036de9144be3b494dce613f4919e",
            "bb39b70de2a741ed885af7c8b1ece0e1"
          ]
        },
        "outputId": "8ef36508-5371-4ae9-b205-a9409b84f8db"
      },
      "execution_count": null,
      "outputs": [
        {
          "data": {
            "application/vnd.jupyter.widget-view+json": {
              "model_id": "053e1cad70fe48dba3fb3ad2c05c10b5",
              "version_major": 2,
              "version_minor": 0
            },
            "text/plain": [
              "HopSkipJump:   0%|          | 0/1500 [00:00<?, ?it/s]"
            ]
          },
          "metadata": {},
          "output_type": "display_data"
        },
        {
          "output_type": "display_data",
          "data": {
            "text/plain": [
              "HopSkipJump:   0%|          | 0/1500 [00:00<?, ?it/s]"
            ],
            "application/vnd.jupyter.widget-view+json": {
              "version_major": 2,
              "version_minor": 0,
              "model_id": "aa3e021ff55940758ac1c0dccdb840ac"
            }
          },
          "metadata": {}
        }
      ]
    },
    {
      "cell_type": "code",
      "source": [
        "##get results\n",
        "# Calculate accuracy metrics\n",
        "def calculate_accuracy(inferred_labels, true_labels):\n",
        "    member_accuracy = np.mean(inferred_labels[true_labels == 1] == true_labels[true_labels == 1])\n",
        "    non_member_accuracy = np.mean(inferred_labels[true_labels == 0] == true_labels[true_labels == 0])\n",
        "    overall_accuracy = np.mean(inferred_labels == true_labels)\n",
        "    return member_accuracy, non_member_accuracy, overall_accuracy\n",
        "\n",
        "# Get results for max_queries=5\n",
        "member_acc_5, non_member_acc_5, overall_acc_5 = calculate_accuracy(inferred_labels_5, eval_label)\n",
        "\n",
        "# Get results for max_queries=10\n",
        "member_acc_10, non_member_acc_10, overall_acc_10 = calculate_accuracy(inferred_labels_10, eval_label)\n",
        "\n",
        "# Display the results in Table 2 format\n",
        "import pandas as pd\n",
        "\n",
        "table_2 = pd.DataFrame({\n",
        "    \"Max number of queries\": [5, 10],\n",
        "    \"Members accuracy\": [member_acc_5, member_acc_10],\n",
        "    \"Non-member accuracy\": [non_member_acc_5, non_member_acc_10],\n",
        "    \"Overall accuracy\": [overall_acc_5, overall_acc_10]\n",
        "})\n",
        "\n",
        "print(\"\\nTable 2: Attack accuracy with different number of queries\")\n",
        "print(table_2)"
      ],
      "metadata": {
        "colab": {
          "base_uri": "https://localhost:8080/"
        },
        "id": "l6v6Fm1w0YHZ",
        "outputId": "27105530-bc52-4d92-8773-96cb247ac5ea"
      },
      "execution_count": null,
      "outputs": [
        {
          "output_type": "stream",
          "name": "stdout",
          "text": [
            "\n",
            "Table 2: Attack accuracy with different number of queries\n",
            "   Max number of queries  Members accuracy  Non-member accuracy  \\\n",
            "0                      5          0.027599             0.961259   \n",
            "1                     10          0.002760             1.000000   \n",
            "\n",
            "   Overall accuracy  \n",
            "0          0.284667  \n",
            "1          0.277333  \n"
          ]
        }
      ]
    },
    {
      "cell_type": "markdown",
      "source": [
        "##Task 3\n",
        "Let's do another privacy attack. This time, it is a “shadow models” attack, discussed in class. [This notebook](https://github.com/Trusted-AI/adversarial-robustness-toolbox/blob/main/notebooks/attack_membership_inference_shadow_models.ipynb) will be your guide. You are going to use ART again, and here are a few steps to follow:\n",
        "\n",
        "1-\tBuild the shadow models based on the numbers provided below. Set the training ratio for them to 0.5.\n",
        "\n",
        "2-\tMeasure the accuracies for them (use validation accuracy as a measure)\n",
        "\n",
        "3-\tBuild the attack model. You can build any binary classifier. You are suggested to use a random forest classifier for simplicity.\n",
        "\n",
        "4-\tEvaluate your attack models for members and non-members (the evaluation data is already given to you).\n",
        "\n",
        "5-\tCalculate the precision and recall of your attack model.\n",
        "\n",
        "Your changing parameter in this task is the number of shadow models. You will set it to 1,2 and 5. Please note the needed metrics so you can plan your code accordingly.\n",
        "\n",
        "#Note on the implementation:\n",
        "Our implementation will look strange. Shadow models will require lots and lots of data. Thus, in a general setup, researchers use 80% of the data for shadow models, and only 20% is for training/testing/validation. However, given that we are using a model already built from Assignment 1, we cannot use this general setup. Thus, our shadow models' data will concatenate training and testing while the validation will be left out to test performance accuracy. To evaluate the attack, we generated a separate dataset that is taken from training and testing. You will need to locate and work with that data. In general, your attack results won't be good due to the above design, but the idea is that you should analyze it.\n"
      ],
      "metadata": {
        "id": "_n05hfxU-aNp"
      }
    },
    {
      "cell_type": "markdown",
      "source": [
        "# Data for evaluating the attack."
      ],
      "metadata": {
        "id": "svWAKJzo-xiC"
      }
    },
    {
      "cell_type": "code",
      "source": [
        "# Data for evaluating the attack.\n",
        "n_sample_train = 3000\n",
        "eval_data_idx=choice(len(imgs_train), n_sample_train)\n",
        "members_samples, members_labels= imgs_train[eval_data_idx], labels_train_cat[eval_data_idx]\n",
        "n_sample_train = 3000\n",
        "eval_data_idx=choice(len(imgs_test), n_sample_train)\n",
        "non_members_samples, non_members_labels= imgs_test[eval_data_idx], labels_test_cat[eval_data_idx]"
      ],
      "metadata": {
        "id": "O2Br_zjj-WOK"
      },
      "execution_count": 14,
      "outputs": []
    },
    {
      "cell_type": "markdown",
      "source": [
        "#Impliment your attack based on the above steps"
      ],
      "metadata": {
        "id": "TwAwK5Qn-2Zf"
      }
    },
    {
      "cell_type": "code",
      "source": [
        "from sklearn.ensemble import RandomForestClassifier\n",
        "from art.estimators.classification.scikitlearn import ScikitlearnRandomForestClassifier\n",
        "import numpy as np\n",
        "\n",
        "# Prepare and flatten the combined data for shadow models\n",
        "x_combined = np.concatenate([imgs_train, imgs_test])\n",
        "y_combined = np.argmax(np.concatenate([labels_train_cat, labels_test_cat]), axis=1)\n",
        "x_combined_flat = x_combined.reshape(x_combined.shape[0], -1)\n",
        "\n",
        "# Initialize and fit the base RandomForest model before wrapping for ART\n",
        "rf_base_model = RandomForestClassifier()\n",
        "rf_base_model.fit(x_combined_flat, y_combined)  # Fit on flattened combined dataset"
      ],
      "metadata": {
        "id": "ad_KniaA-7G1",
        "colab": {
          "base_uri": "https://localhost:8080/",
          "height": 80
        },
        "outputId": "38eb8636-26cf-4fff-cb36-7e23b027441b"
      },
      "execution_count": null,
      "outputs": [
        {
          "output_type": "execute_result",
          "data": {
            "text/plain": [
              "RandomForestClassifier()"
            ],
            "text/html": [
              "<style>#sk-container-id-1 {\n",
              "  /* Definition of color scheme common for light and dark mode */\n",
              "  --sklearn-color-text: black;\n",
              "  --sklearn-color-line: gray;\n",
              "  /* Definition of color scheme for unfitted estimators */\n",
              "  --sklearn-color-unfitted-level-0: #fff5e6;\n",
              "  --sklearn-color-unfitted-level-1: #f6e4d2;\n",
              "  --sklearn-color-unfitted-level-2: #ffe0b3;\n",
              "  --sklearn-color-unfitted-level-3: chocolate;\n",
              "  /* Definition of color scheme for fitted estimators */\n",
              "  --sklearn-color-fitted-level-0: #f0f8ff;\n",
              "  --sklearn-color-fitted-level-1: #d4ebff;\n",
              "  --sklearn-color-fitted-level-2: #b3dbfd;\n",
              "  --sklearn-color-fitted-level-3: cornflowerblue;\n",
              "\n",
              "  /* Specific color for light theme */\n",
              "  --sklearn-color-text-on-default-background: var(--sg-text-color, var(--theme-code-foreground, var(--jp-content-font-color1, black)));\n",
              "  --sklearn-color-background: var(--sg-background-color, var(--theme-background, var(--jp-layout-color0, white)));\n",
              "  --sklearn-color-border-box: var(--sg-text-color, var(--theme-code-foreground, var(--jp-content-font-color1, black)));\n",
              "  --sklearn-color-icon: #696969;\n",
              "\n",
              "  @media (prefers-color-scheme: dark) {\n",
              "    /* Redefinition of color scheme for dark theme */\n",
              "    --sklearn-color-text-on-default-background: var(--sg-text-color, var(--theme-code-foreground, var(--jp-content-font-color1, white)));\n",
              "    --sklearn-color-background: var(--sg-background-color, var(--theme-background, var(--jp-layout-color0, #111)));\n",
              "    --sklearn-color-border-box: var(--sg-text-color, var(--theme-code-foreground, var(--jp-content-font-color1, white)));\n",
              "    --sklearn-color-icon: #878787;\n",
              "  }\n",
              "}\n",
              "\n",
              "#sk-container-id-1 {\n",
              "  color: var(--sklearn-color-text);\n",
              "}\n",
              "\n",
              "#sk-container-id-1 pre {\n",
              "  padding: 0;\n",
              "}\n",
              "\n",
              "#sk-container-id-1 input.sk-hidden--visually {\n",
              "  border: 0;\n",
              "  clip: rect(1px 1px 1px 1px);\n",
              "  clip: rect(1px, 1px, 1px, 1px);\n",
              "  height: 1px;\n",
              "  margin: -1px;\n",
              "  overflow: hidden;\n",
              "  padding: 0;\n",
              "  position: absolute;\n",
              "  width: 1px;\n",
              "}\n",
              "\n",
              "#sk-container-id-1 div.sk-dashed-wrapped {\n",
              "  border: 1px dashed var(--sklearn-color-line);\n",
              "  margin: 0 0.4em 0.5em 0.4em;\n",
              "  box-sizing: border-box;\n",
              "  padding-bottom: 0.4em;\n",
              "  background-color: var(--sklearn-color-background);\n",
              "}\n",
              "\n",
              "#sk-container-id-1 div.sk-container {\n",
              "  /* jupyter's `normalize.less` sets `[hidden] { display: none; }`\n",
              "     but bootstrap.min.css set `[hidden] { display: none !important; }`\n",
              "     so we also need the `!important` here to be able to override the\n",
              "     default hidden behavior on the sphinx rendered scikit-learn.org.\n",
              "     See: https://github.com/scikit-learn/scikit-learn/issues/21755 */\n",
              "  display: inline-block !important;\n",
              "  position: relative;\n",
              "}\n",
              "\n",
              "#sk-container-id-1 div.sk-text-repr-fallback {\n",
              "  display: none;\n",
              "}\n",
              "\n",
              "div.sk-parallel-item,\n",
              "div.sk-serial,\n",
              "div.sk-item {\n",
              "  /* draw centered vertical line to link estimators */\n",
              "  background-image: linear-gradient(var(--sklearn-color-text-on-default-background), var(--sklearn-color-text-on-default-background));\n",
              "  background-size: 2px 100%;\n",
              "  background-repeat: no-repeat;\n",
              "  background-position: center center;\n",
              "}\n",
              "\n",
              "/* Parallel-specific style estimator block */\n",
              "\n",
              "#sk-container-id-1 div.sk-parallel-item::after {\n",
              "  content: \"\";\n",
              "  width: 100%;\n",
              "  border-bottom: 2px solid var(--sklearn-color-text-on-default-background);\n",
              "  flex-grow: 1;\n",
              "}\n",
              "\n",
              "#sk-container-id-1 div.sk-parallel {\n",
              "  display: flex;\n",
              "  align-items: stretch;\n",
              "  justify-content: center;\n",
              "  background-color: var(--sklearn-color-background);\n",
              "  position: relative;\n",
              "}\n",
              "\n",
              "#sk-container-id-1 div.sk-parallel-item {\n",
              "  display: flex;\n",
              "  flex-direction: column;\n",
              "}\n",
              "\n",
              "#sk-container-id-1 div.sk-parallel-item:first-child::after {\n",
              "  align-self: flex-end;\n",
              "  width: 50%;\n",
              "}\n",
              "\n",
              "#sk-container-id-1 div.sk-parallel-item:last-child::after {\n",
              "  align-self: flex-start;\n",
              "  width: 50%;\n",
              "}\n",
              "\n",
              "#sk-container-id-1 div.sk-parallel-item:only-child::after {\n",
              "  width: 0;\n",
              "}\n",
              "\n",
              "/* Serial-specific style estimator block */\n",
              "\n",
              "#sk-container-id-1 div.sk-serial {\n",
              "  display: flex;\n",
              "  flex-direction: column;\n",
              "  align-items: center;\n",
              "  background-color: var(--sklearn-color-background);\n",
              "  padding-right: 1em;\n",
              "  padding-left: 1em;\n",
              "}\n",
              "\n",
              "\n",
              "/* Toggleable style: style used for estimator/Pipeline/ColumnTransformer box that is\n",
              "clickable and can be expanded/collapsed.\n",
              "- Pipeline and ColumnTransformer use this feature and define the default style\n",
              "- Estimators will overwrite some part of the style using the `sk-estimator` class\n",
              "*/\n",
              "\n",
              "/* Pipeline and ColumnTransformer style (default) */\n",
              "\n",
              "#sk-container-id-1 div.sk-toggleable {\n",
              "  /* Default theme specific background. It is overwritten whether we have a\n",
              "  specific estimator or a Pipeline/ColumnTransformer */\n",
              "  background-color: var(--sklearn-color-background);\n",
              "}\n",
              "\n",
              "/* Toggleable label */\n",
              "#sk-container-id-1 label.sk-toggleable__label {\n",
              "  cursor: pointer;\n",
              "  display: block;\n",
              "  width: 100%;\n",
              "  margin-bottom: 0;\n",
              "  padding: 0.5em;\n",
              "  box-sizing: border-box;\n",
              "  text-align: center;\n",
              "}\n",
              "\n",
              "#sk-container-id-1 label.sk-toggleable__label-arrow:before {\n",
              "  /* Arrow on the left of the label */\n",
              "  content: \"▸\";\n",
              "  float: left;\n",
              "  margin-right: 0.25em;\n",
              "  color: var(--sklearn-color-icon);\n",
              "}\n",
              "\n",
              "#sk-container-id-1 label.sk-toggleable__label-arrow:hover:before {\n",
              "  color: var(--sklearn-color-text);\n",
              "}\n",
              "\n",
              "/* Toggleable content - dropdown */\n",
              "\n",
              "#sk-container-id-1 div.sk-toggleable__content {\n",
              "  max-height: 0;\n",
              "  max-width: 0;\n",
              "  overflow: hidden;\n",
              "  text-align: left;\n",
              "  /* unfitted */\n",
              "  background-color: var(--sklearn-color-unfitted-level-0);\n",
              "}\n",
              "\n",
              "#sk-container-id-1 div.sk-toggleable__content.fitted {\n",
              "  /* fitted */\n",
              "  background-color: var(--sklearn-color-fitted-level-0);\n",
              "}\n",
              "\n",
              "#sk-container-id-1 div.sk-toggleable__content pre {\n",
              "  margin: 0.2em;\n",
              "  border-radius: 0.25em;\n",
              "  color: var(--sklearn-color-text);\n",
              "  /* unfitted */\n",
              "  background-color: var(--sklearn-color-unfitted-level-0);\n",
              "}\n",
              "\n",
              "#sk-container-id-1 div.sk-toggleable__content.fitted pre {\n",
              "  /* unfitted */\n",
              "  background-color: var(--sklearn-color-fitted-level-0);\n",
              "}\n",
              "\n",
              "#sk-container-id-1 input.sk-toggleable__control:checked~div.sk-toggleable__content {\n",
              "  /* Expand drop-down */\n",
              "  max-height: 200px;\n",
              "  max-width: 100%;\n",
              "  overflow: auto;\n",
              "}\n",
              "\n",
              "#sk-container-id-1 input.sk-toggleable__control:checked~label.sk-toggleable__label-arrow:before {\n",
              "  content: \"▾\";\n",
              "}\n",
              "\n",
              "/* Pipeline/ColumnTransformer-specific style */\n",
              "\n",
              "#sk-container-id-1 div.sk-label input.sk-toggleable__control:checked~label.sk-toggleable__label {\n",
              "  color: var(--sklearn-color-text);\n",
              "  background-color: var(--sklearn-color-unfitted-level-2);\n",
              "}\n",
              "\n",
              "#sk-container-id-1 div.sk-label.fitted input.sk-toggleable__control:checked~label.sk-toggleable__label {\n",
              "  background-color: var(--sklearn-color-fitted-level-2);\n",
              "}\n",
              "\n",
              "/* Estimator-specific style */\n",
              "\n",
              "/* Colorize estimator box */\n",
              "#sk-container-id-1 div.sk-estimator input.sk-toggleable__control:checked~label.sk-toggleable__label {\n",
              "  /* unfitted */\n",
              "  background-color: var(--sklearn-color-unfitted-level-2);\n",
              "}\n",
              "\n",
              "#sk-container-id-1 div.sk-estimator.fitted input.sk-toggleable__control:checked~label.sk-toggleable__label {\n",
              "  /* fitted */\n",
              "  background-color: var(--sklearn-color-fitted-level-2);\n",
              "}\n",
              "\n",
              "#sk-container-id-1 div.sk-label label.sk-toggleable__label,\n",
              "#sk-container-id-1 div.sk-label label {\n",
              "  /* The background is the default theme color */\n",
              "  color: var(--sklearn-color-text-on-default-background);\n",
              "}\n",
              "\n",
              "/* On hover, darken the color of the background */\n",
              "#sk-container-id-1 div.sk-label:hover label.sk-toggleable__label {\n",
              "  color: var(--sklearn-color-text);\n",
              "  background-color: var(--sklearn-color-unfitted-level-2);\n",
              "}\n",
              "\n",
              "/* Label box, darken color on hover, fitted */\n",
              "#sk-container-id-1 div.sk-label.fitted:hover label.sk-toggleable__label.fitted {\n",
              "  color: var(--sklearn-color-text);\n",
              "  background-color: var(--sklearn-color-fitted-level-2);\n",
              "}\n",
              "\n",
              "/* Estimator label */\n",
              "\n",
              "#sk-container-id-1 div.sk-label label {\n",
              "  font-family: monospace;\n",
              "  font-weight: bold;\n",
              "  display: inline-block;\n",
              "  line-height: 1.2em;\n",
              "}\n",
              "\n",
              "#sk-container-id-1 div.sk-label-container {\n",
              "  text-align: center;\n",
              "}\n",
              "\n",
              "/* Estimator-specific */\n",
              "#sk-container-id-1 div.sk-estimator {\n",
              "  font-family: monospace;\n",
              "  border: 1px dotted var(--sklearn-color-border-box);\n",
              "  border-radius: 0.25em;\n",
              "  box-sizing: border-box;\n",
              "  margin-bottom: 0.5em;\n",
              "  /* unfitted */\n",
              "  background-color: var(--sklearn-color-unfitted-level-0);\n",
              "}\n",
              "\n",
              "#sk-container-id-1 div.sk-estimator.fitted {\n",
              "  /* fitted */\n",
              "  background-color: var(--sklearn-color-fitted-level-0);\n",
              "}\n",
              "\n",
              "/* on hover */\n",
              "#sk-container-id-1 div.sk-estimator:hover {\n",
              "  /* unfitted */\n",
              "  background-color: var(--sklearn-color-unfitted-level-2);\n",
              "}\n",
              "\n",
              "#sk-container-id-1 div.sk-estimator.fitted:hover {\n",
              "  /* fitted */\n",
              "  background-color: var(--sklearn-color-fitted-level-2);\n",
              "}\n",
              "\n",
              "/* Specification for estimator info (e.g. \"i\" and \"?\") */\n",
              "\n",
              "/* Common style for \"i\" and \"?\" */\n",
              "\n",
              ".sk-estimator-doc-link,\n",
              "a:link.sk-estimator-doc-link,\n",
              "a:visited.sk-estimator-doc-link {\n",
              "  float: right;\n",
              "  font-size: smaller;\n",
              "  line-height: 1em;\n",
              "  font-family: monospace;\n",
              "  background-color: var(--sklearn-color-background);\n",
              "  border-radius: 1em;\n",
              "  height: 1em;\n",
              "  width: 1em;\n",
              "  text-decoration: none !important;\n",
              "  margin-left: 1ex;\n",
              "  /* unfitted */\n",
              "  border: var(--sklearn-color-unfitted-level-1) 1pt solid;\n",
              "  color: var(--sklearn-color-unfitted-level-1);\n",
              "}\n",
              "\n",
              ".sk-estimator-doc-link.fitted,\n",
              "a:link.sk-estimator-doc-link.fitted,\n",
              "a:visited.sk-estimator-doc-link.fitted {\n",
              "  /* fitted */\n",
              "  border: var(--sklearn-color-fitted-level-1) 1pt solid;\n",
              "  color: var(--sklearn-color-fitted-level-1);\n",
              "}\n",
              "\n",
              "/* On hover */\n",
              "div.sk-estimator:hover .sk-estimator-doc-link:hover,\n",
              ".sk-estimator-doc-link:hover,\n",
              "div.sk-label-container:hover .sk-estimator-doc-link:hover,\n",
              ".sk-estimator-doc-link:hover {\n",
              "  /* unfitted */\n",
              "  background-color: var(--sklearn-color-unfitted-level-3);\n",
              "  color: var(--sklearn-color-background);\n",
              "  text-decoration: none;\n",
              "}\n",
              "\n",
              "div.sk-estimator.fitted:hover .sk-estimator-doc-link.fitted:hover,\n",
              ".sk-estimator-doc-link.fitted:hover,\n",
              "div.sk-label-container:hover .sk-estimator-doc-link.fitted:hover,\n",
              ".sk-estimator-doc-link.fitted:hover {\n",
              "  /* fitted */\n",
              "  background-color: var(--sklearn-color-fitted-level-3);\n",
              "  color: var(--sklearn-color-background);\n",
              "  text-decoration: none;\n",
              "}\n",
              "\n",
              "/* Span, style for the box shown on hovering the info icon */\n",
              ".sk-estimator-doc-link span {\n",
              "  display: none;\n",
              "  z-index: 9999;\n",
              "  position: relative;\n",
              "  font-weight: normal;\n",
              "  right: .2ex;\n",
              "  padding: .5ex;\n",
              "  margin: .5ex;\n",
              "  width: min-content;\n",
              "  min-width: 20ex;\n",
              "  max-width: 50ex;\n",
              "  color: var(--sklearn-color-text);\n",
              "  box-shadow: 2pt 2pt 4pt #999;\n",
              "  /* unfitted */\n",
              "  background: var(--sklearn-color-unfitted-level-0);\n",
              "  border: .5pt solid var(--sklearn-color-unfitted-level-3);\n",
              "}\n",
              "\n",
              ".sk-estimator-doc-link.fitted span {\n",
              "  /* fitted */\n",
              "  background: var(--sklearn-color-fitted-level-0);\n",
              "  border: var(--sklearn-color-fitted-level-3);\n",
              "}\n",
              "\n",
              ".sk-estimator-doc-link:hover span {\n",
              "  display: block;\n",
              "}\n",
              "\n",
              "/* \"?\"-specific style due to the `<a>` HTML tag */\n",
              "\n",
              "#sk-container-id-1 a.estimator_doc_link {\n",
              "  float: right;\n",
              "  font-size: 1rem;\n",
              "  line-height: 1em;\n",
              "  font-family: monospace;\n",
              "  background-color: var(--sklearn-color-background);\n",
              "  border-radius: 1rem;\n",
              "  height: 1rem;\n",
              "  width: 1rem;\n",
              "  text-decoration: none;\n",
              "  /* unfitted */\n",
              "  color: var(--sklearn-color-unfitted-level-1);\n",
              "  border: var(--sklearn-color-unfitted-level-1) 1pt solid;\n",
              "}\n",
              "\n",
              "#sk-container-id-1 a.estimator_doc_link.fitted {\n",
              "  /* fitted */\n",
              "  border: var(--sklearn-color-fitted-level-1) 1pt solid;\n",
              "  color: var(--sklearn-color-fitted-level-1);\n",
              "}\n",
              "\n",
              "/* On hover */\n",
              "#sk-container-id-1 a.estimator_doc_link:hover {\n",
              "  /* unfitted */\n",
              "  background-color: var(--sklearn-color-unfitted-level-3);\n",
              "  color: var(--sklearn-color-background);\n",
              "  text-decoration: none;\n",
              "}\n",
              "\n",
              "#sk-container-id-1 a.estimator_doc_link.fitted:hover {\n",
              "  /* fitted */\n",
              "  background-color: var(--sklearn-color-fitted-level-3);\n",
              "}\n",
              "</style><div id=\"sk-container-id-1\" class=\"sk-top-container\"><div class=\"sk-text-repr-fallback\"><pre>RandomForestClassifier()</pre><b>In a Jupyter environment, please rerun this cell to show the HTML representation or trust the notebook. <br />On GitHub, the HTML representation is unable to render, please try loading this page with nbviewer.org.</b></div><div class=\"sk-container\" hidden><div class=\"sk-item\"><div class=\"sk-estimator fitted sk-toggleable\"><input class=\"sk-toggleable__control sk-hidden--visually\" id=\"sk-estimator-id-1\" type=\"checkbox\" checked><label for=\"sk-estimator-id-1\" class=\"sk-toggleable__label fitted sk-toggleable__label-arrow fitted\">&nbsp;&nbsp;RandomForestClassifier<a class=\"sk-estimator-doc-link fitted\" rel=\"noreferrer\" target=\"_blank\" href=\"https://scikit-learn.org/1.5/modules/generated/sklearn.ensemble.RandomForestClassifier.html\">?<span>Documentation for RandomForestClassifier</span></a><span class=\"sk-estimator-doc-link fitted\">i<span>Fitted</span></span></label><div class=\"sk-toggleable__content fitted\"><pre>RandomForestClassifier()</pre></div> </div></div></div></div>"
            ]
          },
          "metadata": {},
          "execution_count": 15
        }
      ]
    },
    {
      "cell_type": "code",
      "source": [
        "# Wrap the RandomForest model for ART without `nb_classes`\n",
        "art_rf_model = ScikitlearnRandomForestClassifier(\n",
        "    model=rf_base_model,\n",
        "    clip_values=(0, 1)   # Adjust if data is not normalized to [0, 1]\n",
        ")"
      ],
      "metadata": {
        "id": "SObTs3ozz_CO"
      },
      "execution_count": null,
      "outputs": []
    },
    {
      "cell_type": "code",
      "source": [
        "# Prepare the test data by flattening it to match the model input shape\n",
        "x_test_flat = imgs_test.reshape(imgs_test.shape[0], -1)\n",
        "y_test_labels = np.argmax(labels_test_cat, axis=1)\n",
        "\n",
        "# Test accuracy of the base model\n",
        "base_model_accuracy = rf_base_model.score(x_test_flat, y_test_labels)\n",
        "print(f\"Base model accuracy: {base_model_accuracy:.4f}\")"
      ],
      "metadata": {
        "colab": {
          "base_uri": "https://localhost:8080/"
        },
        "id": "pivD_eH4uKKk",
        "outputId": "d1bab977-524c-46e4-b895-4c62a222cdeb"
      },
      "execution_count": null,
      "outputs": [
        {
          "output_type": "stream",
          "name": "stdout",
          "text": [
            "Base model accuracy: 1.0000\n"
          ]
        }
      ]
    },
    {
      "cell_type": "code",
      "source": [
        "#Build shadow models\n",
        "from art.attacks.inference.membership_inference import ShadowModels\n",
        "from art.utils import to_categorical\n",
        "from sklearn.model_selection import train_test_split\n",
        "\n",
        "# Manually set up the shadow model dataset with a 50% split\n",
        "x_shadow_train, x_shadow_test, y_shadow_train, y_shadow_test = train_test_split(\n",
        "    x_combined_flat, y_combined, train_size=0.5, random_state=42\n",
        ")\n",
        "\n",
        "# Initialize shadow models with the specified ART-wrapped RandomForest model\n",
        "shadow_models = ShadowModels(\n",
        "    art_rf_model,    # Use the existing ART-wrapped RandomForest model\n",
        "    num_shadow_models=5\n",
        ")\n",
        "\n",
        "# Generate the shadow dataset for the attack model, ensuring y_shadow is categorical\n",
        "shadow_dataset = shadow_models.generate_shadow_dataset(x_shadow_train, to_categorical(y_shadow_train, NUM_LABELS))\n",
        "(member_x, member_y, member_predictions), (nonmember_x, nonmember_y, nonmember_predictions) = shadow_dataset\n",
        "\n",
        "# Retrieve and print validation accuracies of each shadow model on the test split\n",
        "shadow_model_accuracies = [sm.model.score(x_shadow_test, y_shadow_test) for sm in shadow_models.get_shadow_models()]\n",
        "print(\"Shadow models' validation accuracies:\", shadow_model_accuracies)"
      ],
      "metadata": {
        "colab": {
          "base_uri": "https://localhost:8080/"
        },
        "id": "L-vKRmPJt9o4",
        "outputId": "580812c3-63d4-43f9-f800-f80e96f953ac"
      },
      "execution_count": null,
      "outputs": [
        {
          "output_type": "stream",
          "name": "stderr",
          "text": [
            "WARNING:art.estimators.scikitlearn:Input shape not recognised. The model might not have been fitted.\n",
            "WARNING:art.estimators.classification.scikitlearn:Number of classes not recognised. The model might not have been fitted.\n",
            "WARNING:art.estimators.scikitlearn:Input shape not recognised. The model might not have been fitted.\n",
            "WARNING:art.estimators.classification.scikitlearn:Number of classes not recognised. The model might not have been fitted.\n",
            "WARNING:art.estimators.scikitlearn:Input shape not recognised. The model might not have been fitted.\n",
            "WARNING:art.estimators.classification.scikitlearn:Number of classes not recognised. The model might not have been fitted.\n",
            "WARNING:art.estimators.scikitlearn:Input shape not recognised. The model might not have been fitted.\n",
            "WARNING:art.estimators.classification.scikitlearn:Number of classes not recognised. The model might not have been fitted.\n",
            "WARNING:art.estimators.scikitlearn:Input shape not recognised. The model might not have been fitted.\n",
            "WARNING:art.estimators.classification.scikitlearn:Number of classes not recognised. The model might not have been fitted.\n"
          ]
        },
        {
          "output_type": "stream",
          "name": "stdout",
          "text": [
            "Shadow models' validation accuracies: [0.938056082648113, 0.9369597301286106, 0.9359898798228969, 0.9387729285262492, 0.9369597301286106]\n"
          ]
        }
      ]
    },
    {
      "cell_type": "code",
      "source": [
        "#Check thier performance on validation dataset\n",
        "shadow_validation_accuracies = []\n",
        "\n",
        "for i, shadow_model in enumerate(shadow_models.get_shadow_models()):\n",
        "    accuracy = shadow_model.model.score(x_shadow_test, y_shadow_test)\n",
        "    shadow_validation_accuracies.append(accuracy)\n",
        "    print(f\"Shadow model {i+1} validation accuracy: {accuracy:.4f}\")\n",
        "\n",
        "# Print overall summary of validation accuracies\n",
        "print(\"Validation accuracies of shadow models:\", shadow_validation_accuracies)\n",
        "\n",
        "average_accuracy = sum(shadow_validation_accuracies) / len(shadow_validation_accuracies)\n",
        "print(f\"Average validation accuracy for 5 shadow models: {average_accuracy:.4f}\")"
      ],
      "metadata": {
        "colab": {
          "base_uri": "https://localhost:8080/"
        },
        "id": "Q3kCV8A8pHPj",
        "outputId": "35271933-6a03-4b7a-b075-963d34a53b18"
      },
      "execution_count": null,
      "outputs": [
        {
          "output_type": "stream",
          "name": "stdout",
          "text": [
            "Shadow model 1 validation accuracy: 0.9381\n",
            "Shadow model 2 validation accuracy: 0.9370\n",
            "Shadow model 3 validation accuracy: 0.9360\n",
            "Shadow model 4 validation accuracy: 0.9388\n",
            "Shadow model 5 validation accuracy: 0.9370\n",
            "Validation accuracies of shadow models: [0.938056082648113, 0.9369597301286106, 0.9359898798228969, 0.9387729285262492, 0.9369597301286106]\n",
            "Average validation accuracy for 5 shadow models: 0.9373\n"
          ]
        }
      ]
    },
    {
      "cell_type": "code",
      "source": [
        "#Build your attack model and fit it\n",
        "from art.attacks.inference.membership_inference import MembershipInferenceBlackBox\n",
        "\n",
        "# Initialize the Membership Inference BlackBox Attack using the ART-wrapped RandomForest model\n",
        "attack = MembershipInferenceBlackBox(art_rf_model, attack_model_type=\"rf\")\n",
        "\n",
        "# Fit the attack model with the shadow model member and non-member datasets\n",
        "attack.fit(member_x, member_y, nonmember_x, nonmember_y, member_predictions, nonmember_predictions)\n",
        "\n",
        "print(\"Attack model has been built and fitted.\")"
      ],
      "metadata": {
        "id": "zBl53NEu_Osx",
        "colab": {
          "base_uri": "https://localhost:8080/"
        },
        "outputId": "e43493f9-51f0-4052-9082-f33b393b21d4"
      },
      "execution_count": null,
      "outputs": [
        {
          "output_type": "stream",
          "name": "stdout",
          "text": [
            "Attack model has been built and fitted.\n"
          ]
        }
      ]
    },
    {
      "cell_type": "code",
      "source": [
        "#Infer on the above data\n",
        "# Perform inference on the member and non-member data\n",
        "member_infer = attack.infer(x_shadow_train, y_shadow_train)  # Inference on member samples\n",
        "nonmember_infer = attack.infer(x_shadow_test, y_shadow_test)  # Inference on non-member samples\n",
        "\n",
        "print(\"Inference completed on member and non-member data.\")"
      ],
      "metadata": {
        "colab": {
          "base_uri": "https://localhost:8080/"
        },
        "id": "yo3VuS8l8SOp",
        "outputId": "1858703b-8de2-48ec-cd2e-3f79e1beda3c"
      },
      "execution_count": null,
      "outputs": [
        {
          "output_type": "stream",
          "name": "stdout",
          "text": [
            "Inference completed on member and non-member data.\n"
          ]
        }
      ]
    },
    {
      "cell_type": "code",
      "source": [
        "#Measure your performance\n",
        "# Calculate accuracy for members and non-members\n",
        "member_acc = np.sum(member_infer) / len(x_shadow_train)  # Proportion correctly identified as members\n",
        "nonmember_acc = 1 - np.sum(nonmember_infer) / len(x_shadow_test)  # Proportion correctly identified as non-members\n",
        "overall_acc = (member_acc * len(x_shadow_train) + nonmember_acc * len(x_shadow_test)) / (len(x_shadow_train) + len(x_shadow_test))\n",
        "\n",
        "# Display the results\n",
        "print(f'Attack Member Accuracy: {member_acc:.4f}')\n",
        "print(f'Attack Non-Member Accuracy: {nonmember_acc:.4f}')\n",
        "print(f'Overall Attack Accuracy: {overall_acc:.4f}')"
      ],
      "metadata": {
        "colab": {
          "base_uri": "https://localhost:8080/"
        },
        "id": "cGSrQRyW9SCI",
        "outputId": "6d5e51d7-0029-47c3-cd54-3838d4d16d1d"
      },
      "execution_count": null,
      "outputs": [
        {
          "output_type": "stream",
          "name": "stdout",
          "text": [
            "Attack Member Accuracy: 0.9513\n",
            "Attack Non-Member Accuracy: 0.0500\n",
            "Overall Attack Accuracy: 0.5006\n"
          ]
        }
      ]
    },
    {
      "cell_type": "markdown",
      "source": [
        "#Here is a code to calculate precision and recall\n",
        "Make sure it is correct before using it"
      ],
      "metadata": {
        "id": "HaaOVjlX_mJD"
      }
    },
    {
      "cell_type": "code",
      "source": [
        "def calc_precision_recall(predicted, actual, positive_value=1):\n",
        "    score = 0  # both predicted and actual are positive\n",
        "    num_positive_predicted = 0  # predicted positive\n",
        "    num_positive_actual = 0  # actual positive\n",
        "    for i in range(len(predicted)):\n",
        "        if predicted[i] == positive_value:\n",
        "            num_positive_predicted += 1\n",
        "        if actual[i] == positive_value:\n",
        "            num_positive_actual += 1\n",
        "        if predicted[i] == actual[i]:\n",
        "            if predicted[i] == positive_value:\n",
        "                score += 1\n",
        "\n",
        "    if num_positive_predicted == 0:\n",
        "        precision = 1\n",
        "    else:\n",
        "        precision = score / num_positive_predicted  # the fraction of predicted “Yes” responses that are correct\n",
        "    if num_positive_actual == 0:\n",
        "        recall = 1\n",
        "    else:\n",
        "        recall = score / num_positive_actual  # the fraction of “Yes” responses that are predicted correctly\n",
        "\n",
        "    return precision, recall"
      ],
      "metadata": {
        "id": "IkPjZhUT_l3R"
      },
      "execution_count": null,
      "outputs": []
    },
    {
      "cell_type": "code",
      "source": [
        "# Combine member and non-member inferences and actual values\n",
        "predicted_labels = np.concatenate((member_infer, nonmember_infer))\n",
        "actual_labels = np.concatenate((np.ones(len(member_infer)), np.zeros(len(nonmember_infer))))\n",
        "\n",
        "# Calculate precision and recall\n",
        "precision, recall = calc_precision_recall(predicted_labels, actual_labels)\n",
        "\n",
        "# Display precision and recall\n",
        "print(f'Attack Precision: {precision:.4f}')\n",
        "print(f'Attack Recall: {recall:.4f}')"
      ],
      "metadata": {
        "colab": {
          "base_uri": "https://localhost:8080/"
        },
        "id": "gJ-JnO3m9loj",
        "outputId": "b92a0ced-17d1-4ce5-8700-985155603894"
      },
      "execution_count": null,
      "outputs": [
        {
          "output_type": "stream",
          "name": "stdout",
          "text": [
            "Attack Precision: 0.5003\n",
            "Attack Recall: 0.9513\n"
          ]
        }
      ]
    },
    {
      "cell_type": "markdown",
      "source": [
        "#Task 4\n",
        "\n",
        "We will leave the details of implimentation to you\n",
        "\n",
        "Now, let's defend test defense with DP. We have built a DP-SGD model using the TensorFlow privacy library. The model is given to you, and you just need to analyze it. First, check the overall DP code and answer the below questions. Then, analyze the given DP model in terms of accuracy and resiliency to membership inference attacks. Use a label-only membership inference attack with 5 max-queries and the same setup as in Task 2.\n",
        "\n",
        "\n",
        "2.\t[5 pts] Measure the differential privacy guarantee of the given model.\n",
        "\n",
        "3.\t[5 pts] Calculate the model's performance under attacks and any other observations regarding the results.\n"
      ],
      "metadata": {
        "id": "AzIgNdHSaHmZ"
      }
    },
    {
      "cell_type": "code",
      "source": [
        "# Get the model\n",
        "from tensorflow.keras.models import model_from_json\n",
        "\n",
        "# Load the DP model architecture\n",
        "with open(MODEL_DIR + 'dp_model_architecture.json', 'r') as json_file:\n",
        "    dp_model_json = json_file.read()\n",
        "dp_model = model_from_json(dp_model_json)\n",
        "\n",
        "# Load the DP model weights\n",
        "dp_model.load_weights(MODEL_DIR + 'dp_model_weights.h5')"
      ],
      "metadata": {
        "id": "suUvtu2HassJ"
      },
      "execution_count": 15,
      "outputs": []
    },
    {
      "cell_type": "code",
      "source": [
        "!pip install tensorflow-privacy"
      ],
      "metadata": {
        "colab": {
          "base_uri": "https://localhost:8080/"
        },
        "id": "eRZAlVQDUBDd",
        "outputId": "b881a2b1-0924-4ec8-a9b5-57b71b5b2caa"
      },
      "execution_count": 16,
      "outputs": [
        {
          "output_type": "stream",
          "name": "stdout",
          "text": [
            "Collecting tensorflow-privacy\n",
            "  Downloading tensorflow_privacy-0.9.0-py3-none-any.whl.metadata (763 bytes)\n",
            "Requirement already satisfied: absl-py==1.*,>=1.0 in /usr/local/lib/python3.10/dist-packages (from tensorflow-privacy) (1.4.0)\n",
            "Requirement already satisfied: dm-tree==0.1.8 in /usr/local/lib/python3.10/dist-packages (from tensorflow-privacy) (0.1.8)\n",
            "Collecting dp-accounting==0.4.3 (from tensorflow-privacy)\n",
            "  Downloading dp_accounting-0.4.3-py3-none-any.whl.metadata (1.8 kB)\n",
            "Requirement already satisfied: numpy~=1.21 in /usr/local/lib/python3.10/dist-packages (from tensorflow-privacy) (1.26.4)\n",
            "Collecting packaging~=22.0 (from tensorflow-privacy)\n",
            "  Downloading packaging-22.0-py3-none-any.whl.metadata (3.1 kB)\n",
            "Requirement already satisfied: scikit-learn==1.*,>=1.0 in /usr/local/lib/python3.10/dist-packages (from tensorflow-privacy) (1.5.2)\n",
            "Requirement already satisfied: scipy~=1.9 in /usr/local/lib/python3.10/dist-packages (from tensorflow-privacy) (1.13.1)\n",
            "Requirement already satisfied: tensorflow-estimator~=2.4 in /usr/local/lib/python3.10/dist-packages (from tensorflow-privacy) (2.14.0)\n",
            "Collecting tensorflow-probability~=0.22.0 (from tensorflow-privacy)\n",
            "  Downloading tensorflow_probability-0.22.1-py2.py3-none-any.whl.metadata (13 kB)\n",
            "Requirement already satisfied: tensorflow~=2.4 in /usr/local/lib/python3.10/dist-packages (from tensorflow-privacy) (2.14.0)\n",
            "Requirement already satisfied: attrs>=22 in /usr/local/lib/python3.10/dist-packages (from dp-accounting==0.4.3->tensorflow-privacy) (24.2.0)\n",
            "Requirement already satisfied: mpmath~=1.2 in /usr/local/lib/python3.10/dist-packages (from dp-accounting==0.4.3->tensorflow-privacy) (1.3.0)\n",
            "Requirement already satisfied: joblib>=1.2.0 in /usr/local/lib/python3.10/dist-packages (from scikit-learn==1.*,>=1.0->tensorflow-privacy) (1.4.2)\n",
            "Requirement already satisfied: threadpoolctl>=3.1.0 in /usr/local/lib/python3.10/dist-packages (from scikit-learn==1.*,>=1.0->tensorflow-privacy) (3.5.0)\n",
            "Requirement already satisfied: astunparse>=1.6.0 in /usr/local/lib/python3.10/dist-packages (from tensorflow~=2.4->tensorflow-privacy) (1.6.3)\n",
            "Requirement already satisfied: flatbuffers>=23.5.26 in /usr/local/lib/python3.10/dist-packages (from tensorflow~=2.4->tensorflow-privacy) (24.3.25)\n",
            "Requirement already satisfied: gast!=0.5.0,!=0.5.1,!=0.5.2,>=0.2.1 in /usr/local/lib/python3.10/dist-packages (from tensorflow~=2.4->tensorflow-privacy) (0.6.0)\n",
            "Requirement already satisfied: google-pasta>=0.1.1 in /usr/local/lib/python3.10/dist-packages (from tensorflow~=2.4->tensorflow-privacy) (0.2.0)\n",
            "Requirement already satisfied: h5py>=2.9.0 in /usr/local/lib/python3.10/dist-packages (from tensorflow~=2.4->tensorflow-privacy) (3.12.1)\n",
            "Requirement already satisfied: libclang>=13.0.0 in /usr/local/lib/python3.10/dist-packages (from tensorflow~=2.4->tensorflow-privacy) (18.1.1)\n",
            "Requirement already satisfied: ml-dtypes==0.2.0 in /usr/local/lib/python3.10/dist-packages (from tensorflow~=2.4->tensorflow-privacy) (0.2.0)\n",
            "Requirement already satisfied: opt-einsum>=2.3.2 in /usr/local/lib/python3.10/dist-packages (from tensorflow~=2.4->tensorflow-privacy) (3.4.0)\n",
            "Requirement already satisfied: protobuf!=4.21.0,!=4.21.1,!=4.21.2,!=4.21.3,!=4.21.4,!=4.21.5,<5.0.0dev,>=3.20.3 in /usr/local/lib/python3.10/dist-packages (from tensorflow~=2.4->tensorflow-privacy) (4.25.5)\n",
            "Requirement already satisfied: setuptools in /usr/local/lib/python3.10/dist-packages (from tensorflow~=2.4->tensorflow-privacy) (75.1.0)\n",
            "Requirement already satisfied: six>=1.12.0 in /usr/local/lib/python3.10/dist-packages (from tensorflow~=2.4->tensorflow-privacy) (1.16.0)\n",
            "Requirement already satisfied: termcolor>=1.1.0 in /usr/local/lib/python3.10/dist-packages (from tensorflow~=2.4->tensorflow-privacy) (2.5.0)\n",
            "Requirement already satisfied: typing-extensions>=3.6.6 in /usr/local/lib/python3.10/dist-packages (from tensorflow~=2.4->tensorflow-privacy) (4.12.2)\n",
            "Requirement already satisfied: wrapt<1.15,>=1.11.0 in /usr/local/lib/python3.10/dist-packages (from tensorflow~=2.4->tensorflow-privacy) (1.14.1)\n",
            "Requirement already satisfied: tensorflow-io-gcs-filesystem>=0.23.1 in /usr/local/lib/python3.10/dist-packages (from tensorflow~=2.4->tensorflow-privacy) (0.37.1)\n",
            "Requirement already satisfied: grpcio<2.0,>=1.24.3 in /usr/local/lib/python3.10/dist-packages (from tensorflow~=2.4->tensorflow-privacy) (1.67.1)\n",
            "Requirement already satisfied: tensorboard<2.15,>=2.14 in /usr/local/lib/python3.10/dist-packages (from tensorflow~=2.4->tensorflow-privacy) (2.14.1)\n",
            "Requirement already satisfied: keras<2.15,>=2.14.0 in /usr/local/lib/python3.10/dist-packages (from tensorflow~=2.4->tensorflow-privacy) (2.14.0)\n",
            "Requirement already satisfied: decorator in /usr/local/lib/python3.10/dist-packages (from tensorflow-probability~=0.22.0->tensorflow-privacy) (5.1.1)\n",
            "Requirement already satisfied: cloudpickle>=1.3 in /usr/local/lib/python3.10/dist-packages (from tensorflow-probability~=0.22.0->tensorflow-privacy) (3.1.0)\n",
            "Requirement already satisfied: wheel<1.0,>=0.23.0 in /usr/local/lib/python3.10/dist-packages (from astunparse>=1.6.0->tensorflow~=2.4->tensorflow-privacy) (0.44.0)\n",
            "Requirement already satisfied: google-auth<3,>=1.6.3 in /usr/local/lib/python3.10/dist-packages (from tensorboard<2.15,>=2.14->tensorflow~=2.4->tensorflow-privacy) (2.27.0)\n",
            "Requirement already satisfied: google-auth-oauthlib<1.1,>=0.5 in /usr/local/lib/python3.10/dist-packages (from tensorboard<2.15,>=2.14->tensorflow~=2.4->tensorflow-privacy) (1.0.0)\n",
            "Requirement already satisfied: markdown>=2.6.8 in /usr/local/lib/python3.10/dist-packages (from tensorboard<2.15,>=2.14->tensorflow~=2.4->tensorflow-privacy) (3.7)\n",
            "Requirement already satisfied: requests<3,>=2.21.0 in /usr/local/lib/python3.10/dist-packages (from tensorboard<2.15,>=2.14->tensorflow~=2.4->tensorflow-privacy) (2.32.3)\n",
            "Requirement already satisfied: tensorboard-data-server<0.8.0,>=0.7.0 in /usr/local/lib/python3.10/dist-packages (from tensorboard<2.15,>=2.14->tensorflow~=2.4->tensorflow-privacy) (0.7.2)\n",
            "Requirement already satisfied: werkzeug>=1.0.1 in /usr/local/lib/python3.10/dist-packages (from tensorboard<2.15,>=2.14->tensorflow~=2.4->tensorflow-privacy) (3.0.6)\n",
            "Requirement already satisfied: cachetools<6.0,>=2.0.0 in /usr/local/lib/python3.10/dist-packages (from google-auth<3,>=1.6.3->tensorboard<2.15,>=2.14->tensorflow~=2.4->tensorflow-privacy) (5.5.0)\n",
            "Requirement already satisfied: pyasn1-modules>=0.2.1 in /usr/local/lib/python3.10/dist-packages (from google-auth<3,>=1.6.3->tensorboard<2.15,>=2.14->tensorflow~=2.4->tensorflow-privacy) (0.4.1)\n",
            "Requirement already satisfied: rsa<5,>=3.1.4 in /usr/local/lib/python3.10/dist-packages (from google-auth<3,>=1.6.3->tensorboard<2.15,>=2.14->tensorflow~=2.4->tensorflow-privacy) (4.9)\n",
            "Requirement already satisfied: requests-oauthlib>=0.7.0 in /usr/local/lib/python3.10/dist-packages (from google-auth-oauthlib<1.1,>=0.5->tensorboard<2.15,>=2.14->tensorflow~=2.4->tensorflow-privacy) (2.0.0)\n",
            "Requirement already satisfied: charset-normalizer<4,>=2 in /usr/local/lib/python3.10/dist-packages (from requests<3,>=2.21.0->tensorboard<2.15,>=2.14->tensorflow~=2.4->tensorflow-privacy) (3.4.0)\n",
            "Requirement already satisfied: idna<4,>=2.5 in /usr/local/lib/python3.10/dist-packages (from requests<3,>=2.21.0->tensorboard<2.15,>=2.14->tensorflow~=2.4->tensorflow-privacy) (3.10)\n",
            "Requirement already satisfied: urllib3<3,>=1.21.1 in /usr/local/lib/python3.10/dist-packages (from requests<3,>=2.21.0->tensorboard<2.15,>=2.14->tensorflow~=2.4->tensorflow-privacy) (2.2.3)\n",
            "Requirement already satisfied: certifi>=2017.4.17 in /usr/local/lib/python3.10/dist-packages (from requests<3,>=2.21.0->tensorboard<2.15,>=2.14->tensorflow~=2.4->tensorflow-privacy) (2024.8.30)\n",
            "Requirement already satisfied: MarkupSafe>=2.1.1 in /usr/local/lib/python3.10/dist-packages (from werkzeug>=1.0.1->tensorboard<2.15,>=2.14->tensorflow~=2.4->tensorflow-privacy) (3.0.2)\n",
            "Requirement already satisfied: pyasn1<0.7.0,>=0.4.6 in /usr/local/lib/python3.10/dist-packages (from pyasn1-modules>=0.2.1->google-auth<3,>=1.6.3->tensorboard<2.15,>=2.14->tensorflow~=2.4->tensorflow-privacy) (0.6.1)\n",
            "Requirement already satisfied: oauthlib>=3.0.0 in /usr/local/lib/python3.10/dist-packages (from requests-oauthlib>=0.7.0->google-auth-oauthlib<1.1,>=0.5->tensorboard<2.15,>=2.14->tensorflow~=2.4->tensorflow-privacy) (3.2.2)\n",
            "Downloading tensorflow_privacy-0.9.0-py3-none-any.whl (323 kB)\n",
            "\u001b[2K   \u001b[90m━━━━━━━━━━━━━━━━━━━━━━━━━━━━━━━━━━━━━━━━\u001b[0m \u001b[32m323.2/323.2 kB\u001b[0m \u001b[31m954.0 kB/s\u001b[0m eta \u001b[36m0:00:00\u001b[0m\n",
            "\u001b[?25hDownloading dp_accounting-0.4.3-py3-none-any.whl (104 kB)\n",
            "\u001b[2K   \u001b[90m━━━━━━━━━━━━━━━━━━━━━━━━━━━━━━━━━━━━━━━━\u001b[0m \u001b[32m104.8/104.8 kB\u001b[0m \u001b[31m8.1 MB/s\u001b[0m eta \u001b[36m0:00:00\u001b[0m\n",
            "\u001b[?25hDownloading packaging-22.0-py3-none-any.whl (42 kB)\n",
            "\u001b[2K   \u001b[90m━━━━━━━━━━━━━━━━━━━━━━━━━━━━━━━━━━━━━━━━\u001b[0m \u001b[32m42.6/42.6 kB\u001b[0m \u001b[31m2.9 MB/s\u001b[0m eta \u001b[36m0:00:00\u001b[0m\n",
            "\u001b[?25hDownloading tensorflow_probability-0.22.1-py2.py3-none-any.whl (6.9 MB)\n",
            "\u001b[2K   \u001b[90m━━━━━━━━━━━━━━━━━━━━━━━━━━━━━━━━━━━━━━━━\u001b[0m \u001b[32m6.9/6.9 MB\u001b[0m \u001b[31m76.7 MB/s\u001b[0m eta \u001b[36m0:00:00\u001b[0m\n",
            "\u001b[?25hInstalling collected packages: tensorflow-probability, packaging, dp-accounting, tensorflow-privacy\n",
            "  Attempting uninstall: tensorflow-probability\n",
            "    Found existing installation: tensorflow-probability 0.24.0\n",
            "    Uninstalling tensorflow-probability-0.24.0:\n",
            "      Successfully uninstalled tensorflow-probability-0.24.0\n",
            "  Attempting uninstall: packaging\n",
            "    Found existing installation: packaging 24.1\n",
            "    Uninstalling packaging-24.1:\n",
            "      Successfully uninstalled packaging-24.1\n",
            "\u001b[31mERROR: pip's dependency resolver does not currently take into account all the packages that are installed. This behaviour is the source of the following dependency conflicts.\n",
            "tensorflow-text 2.15.0 requires tensorflow<2.16,>=2.15.0; platform_machine != \"arm64\" or platform_system != \"Darwin\", but you have tensorflow 2.14.0 which is incompatible.\n",
            "tf-keras 2.15.1 requires tensorflow<2.16,>=2.15, but you have tensorflow 2.14.0 which is incompatible.\u001b[0m\u001b[31m\n",
            "\u001b[0mSuccessfully installed dp-accounting-0.4.3 packaging-22.0 tensorflow-privacy-0.9.0 tensorflow-probability-0.22.1\n"
          ]
        }
      ]
    },
    {
      "cell_type": "code",
      "source": [
        "#Calculate the differential privacy guarantee\n",
        "#This may need tensorflow DP to be installed, if you want to use existing libraries.\n",
        "from tensorflow_privacy.privacy.analysis import compute_dp_sgd_privacy_lib\n",
        "\n",
        "# Parameters based on the DP-SGD model setup\n",
        "num_samples = len(imgs_train)\n",
        "batch_size = 128\n",
        "noise_multiplier = 1.6\n",
        "epochs = 14\n",
        "\n",
        "# Compute epsilon for a given delta\n",
        "delta = 1e-5\n",
        "steps = epochs * (num_samples // batch_size)\n",
        "epsilon = compute_dp_sgd_privacy_lib.compute_dp_sgd_privacy(\n",
        "    n=num_samples,\n",
        "    batch_size=batch_size,\n",
        "    noise_multiplier=noise_multiplier,\n",
        "    epochs=epochs,\n",
        "    delta=delta\n",
        ")[0]\n",
        "\n",
        "print(f\"Differential privacy guarantee (ε) for δ={delta}: {epsilon:.2f}\")"
      ],
      "metadata": {
        "colab": {
          "base_uri": "https://localhost:8080/"
        },
        "id": "xJQlmSnZS6Ux",
        "outputId": "a046de41-a406-4b00-db44-33a51d756281"
      },
      "execution_count": 17,
      "outputs": [
        {
          "output_type": "stream",
          "name": "stderr",
          "text": [
            "WARNING:absl:`compute_dp_sgd_privacy` is deprecated. It does not account for doubling of sensitivity with microbatching, and assumes Poisson subsampling, which is rarely used in practice. Please use `compute_dp_sgd_privacy_statement`, which provides appropriate context for the guarantee. To compute epsilon under different assumptions than those in `compute_dp_sgd_privacy_statement`, call the `dp_accounting` libraries directly.\n"
          ]
        },
        {
          "output_type": "stream",
          "name": "stdout",
          "text": [
            "Differential privacy guarantee (ε) for δ=1e-05: 0.63\n"
          ]
        }
      ]
    },
    {
      "cell_type": "code",
      "source": [
        "#Calculate the model's performance under attacks and any other observations regarding the results.\n",
        "# Step 1: Evaluate baseline accuracy on test data\n",
        "dp_model.compile(optimizer='adam', loss='categorical_crossentropy', metrics=['accuracy'])\n",
        "test_accuracy = dp_model.evaluate(imgs_test, labels_test_cat, verbose=0)[1]\n",
        "print(f\"DP Model Test Accuracy: {test_accuracy:.4f}\")"
      ],
      "metadata": {
        "colab": {
          "base_uri": "https://localhost:8080/"
        },
        "id": "N0pS1WXfW3ox",
        "outputId": "d9d47799-2bee-47d3-98e5-e389a2d34751"
      },
      "execution_count": null,
      "outputs": [
        {
          "output_type": "stream",
          "name": "stdout",
          "text": [
            "DP Model Test Accuracy: 0.5001\n"
          ]
        }
      ]
    },
    {
      "cell_type": "code",
      "source": [
        "# Step 2: Set up label-only membership inference attack with HopSkipJump\n",
        "from art.attacks.evasion import HopSkipJump\n",
        "from art.estimators.classification import TensorFlowV2Classifier\n",
        "import numpy as np\n",
        "from numpy.linalg import norm\n",
        "\n",
        "# Wrap the DP model in an ART classifier\n",
        "dp_art_classifier = TensorFlowV2Classifier(\n",
        "    model=dp_model,\n",
        "    nb_classes=NUM_LABELS,\n",
        "    input_shape=INPUT_SHAPE\n",
        ")\n",
        "\n",
        "# Initialize the HopSkipJump attack\n",
        "hsj_attack = HopSkipJump(\n",
        "    classifier=dp_art_classifier,\n",
        "    targeted=False,\n",
        "    max_iter=5,\n",
        "    max_eval=100,\n",
        "    init_eval=10\n",
        ")\n",
        "\n",
        "# Step 3: Run inference for membership\n",
        "def infer_membership_attack(data, labels, attack, threshold):\n",
        "    # Generate adversarial samples for inference\n",
        "    x_adv = attack.generate(x=data, batch_size=256)\n",
        "\n",
        "    # Calculate L2 distances between original and adversarial samples\n",
        "    l2_distances = norm((x_adv - data).reshape(len(data), -1), axis=1)\n",
        "\n",
        "    # Classify as member (1) if distance > threshold, else non-member (0)\n",
        "    inferred_labels = (l2_distances > threshold).astype(int)\n",
        "    true_labels = np.argmax(labels, axis=1)  # Convert one-hot to label indices\n",
        "    return inferred_labels, true_labels"
      ],
      "metadata": {
        "id": "XsbvoS8jb107"
      },
      "execution_count": null,
      "outputs": []
    },
    {
      "cell_type": "code",
      "source": [
        "# Use the subset of 1500 samples for both members and non-members inference\n",
        "calibrated_threshold = 15.88  # Use the threshold from Task 2 calibration\n",
        "\n",
        "# Run inference on the evaluation data (1500 samples)\n",
        "member_preds, true_labels = infer_membership_attack(x_eval, y_eval, hsj_attack, calibrated_threshold)\n",
        "\n",
        "# Step 4: Calculate accuracy metrics based on the subset\n",
        "member_accuracy = np.mean(member_preds[eval_label == 1] == eval_label[eval_label == 1])  # Accuracy for member samples\n",
        "non_member_accuracy = np.mean(member_preds[eval_label == 0] == eval_label[eval_label == 0])  # Accuracy for non-member samples\n",
        "overall_accuracy = np.mean(member_preds == eval_label)  # Overall accuracy\n",
        "\n",
        "print(f\"Attack Member Accuracy: {member_accuracy:.4f}\")\n",
        "print(f\"Attack Non-Member Accuracy: {non_member_accuracy:.4f}\")\n",
        "print(f\"Attack Overall Accuracy: {overall_accuracy:.4f}\")"
      ],
      "metadata": {
        "colab": {
          "base_uri": "https://localhost:8080/",
          "height": 153,
          "referenced_widgets": [
            "5c4efeb1f13840d8b8f8f11859d1048f",
            "de2d2efbd49f4ce48235530475558e8e",
            "4b120e735f4d4b2ca8027f21e165b0d3",
            "f585a5c263334e8fa8750fd0a234e232",
            "0737bfcefb274c8abfd09d9efdd7dc65",
            "fb7c7b0815ec4690b9c7c257563ba013",
            "aae6d1cee2c847c1b03fdf9b06e5e644",
            "ca2c442a694a424a93590f5b0bf15160",
            "372b0d56d5724622b0f867eb98623142",
            "b13d8a9e39254aecaf4644bd365cc113",
            "93336b7baecd4659ab562d0b24696559"
          ]
        },
        "id": "q8k-EmrNcSxS",
        "outputId": "cba08b1d-b28d-4fc3-c2ab-05769744794b"
      },
      "execution_count": null,
      "outputs": [
        {
          "output_type": "display_data",
          "data": {
            "text/plain": [
              "HopSkipJump:   0%|          | 0/1500 [00:00<?, ?it/s]"
            ],
            "application/vnd.jupyter.widget-view+json": {
              "version_major": 2,
              "version_minor": 0,
              "model_id": "5c4efeb1f13840d8b8f8f11859d1048f"
            }
          },
          "metadata": {}
        },
        {
          "output_type": "stream",
          "name": "stderr",
          "text": [
            "WARNING:art.attacks.evasion.hop_skip_jump:Failed to draw a random image that is adversarial, attack failed.\n",
            "WARNING:art.attacks.evasion.hop_skip_jump:Failed to draw a random image that is adversarial, attack failed.\n",
            "WARNING:art.attacks.evasion.hop_skip_jump:Failed to draw a random image that is adversarial, attack failed.\n"
          ]
        },
        {
          "output_type": "stream",
          "name": "stdout",
          "text": [
            "Attack Member Accuracy: 0.0209\n",
            "Attack Non-Member Accuracy: 0.9548\n",
            "Attack Overall Accuracy: 0.2687\n"
          ]
        }
      ]
    },
    {
      "cell_type": "code",
      "source": [
        "# Load the original VGG16 model\n",
        "original_model = load_model(MODEL_DIR + 'VGG_best.h5')\n",
        "\n",
        "# Evaluate the overall accuracy on the test set\n",
        "original_test_accuracy = original_model.evaluate(imgs_test, labels_test_cat, verbose=0)[1]\n",
        "\n",
        "# Use the subset of 1500 samples for inference\n",
        "member_preds_original, _ = infer_membership_attack(x_eval, y_eval, hsj_attack, calibrated_threshold)\n",
        "\n",
        "# Calculate accuracy metrics based on the subset\n",
        "member_accuracy_original = np.mean(member_preds_original[eval_label == 1] == eval_label[eval_label == 1])  # Members accuracy\n",
        "non_member_accuracy_original = np.mean(member_preds_original[eval_label == 0] == eval_label[eval_label == 0])  # Non-members accuracy\n",
        "overall_accuracy_original = np.mean(member_preds_original == eval_label)  # Overall accuracy\n",
        "\n",
        "# Display results\n",
        "print(\"VGG16 (Original) - Accuracy:\", original_test_accuracy)\n",
        "print(\"VGG16 (Original) - Members Accuracy:\", member_accuracy_original)\n",
        "print(\"VGG16 (Original) - Non-member Accuracy:\", non_member_accuracy_original)\n",
        "print(\"VGG16 (Original) - Overall Accuracy:\", overall_accuracy_original)"
      ],
      "metadata": {
        "colab": {
          "base_uri": "https://localhost:8080/",
          "height": 153,
          "referenced_widgets": [
            "b2018e601cb544579401b72ee8629c0a",
            "87acfc97483f49d688fa4000e6e60c87",
            "f5af3fc2dca44d7cac6c63fd92aa65c3",
            "f0153b5223e34fe081a0346a7ae8f2b3",
            "ab53695189c74699abc9e85fa2dc0f0b",
            "4c8ef742d38446d6a59f624ca07c7482",
            "84ed5a14a22b4d28accdbec7d13def71",
            "ca0eda98c4094c64af0773240a0d4211",
            "d50616a0794b4a0c9268f31592af0ff4",
            "9a847bf7fa3a4045a97dc5dff252d084",
            "d050286c46e14db3999347c0cb786a9c"
          ]
        },
        "id": "k_hblxiFtvje",
        "outputId": "f71a952d-c0fc-4503-e5d6-8b005bb004de"
      },
      "execution_count": null,
      "outputs": [
        {
          "output_type": "display_data",
          "data": {
            "text/plain": [
              "HopSkipJump:   0%|          | 0/1500 [00:00<?, ?it/s]"
            ],
            "application/vnd.jupyter.widget-view+json": {
              "version_major": 2,
              "version_minor": 0,
              "model_id": "b2018e601cb544579401b72ee8629c0a"
            }
          },
          "metadata": {}
        },
        {
          "output_type": "stream",
          "name": "stderr",
          "text": [
            "WARNING:art.attacks.evasion.hop_skip_jump:Failed to draw a random image that is adversarial, attack failed.\n",
            "WARNING:art.attacks.evasion.hop_skip_jump:Failed to draw a random image that is adversarial, attack failed.\n"
          ]
        },
        {
          "output_type": "stream",
          "name": "stdout",
          "text": [
            "VGG16 (Original) - Accuracy: 0.9396674633026123\n",
            "VGG16 (Original) - Members Accuracy: 0.016333938294010888\n",
            "VGG16 (Original) - Non-member Accuracy: 0.9522613065326633\n",
            "VGG16 (Original) - Overall Accuracy: 0.26466666666666666\n"
          ]
        }
      ]
    }
  ]
}